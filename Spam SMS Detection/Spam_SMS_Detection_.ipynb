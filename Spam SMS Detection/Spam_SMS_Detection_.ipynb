{
  "cells": [
    {
      "cell_type": "markdown",
      "source": [
        "# Spam SMS Detection\n",
        "## Done By\n",
        "## Saisubramanian V"
      ],
      "metadata": {
        "id": "w5lJgDKqSOrw"
      },
      "id": "w5lJgDKqSOrw"
    },
    {
      "cell_type": "markdown",
      "source": [
        "# Import necessary libraries"
      ],
      "metadata": {
        "id": "_KNkze1TSdAZ"
      },
      "id": "_KNkze1TSdAZ"
    },
    {
      "cell_type": "code",
      "execution_count": 51,
      "id": "1c68a7a8",
      "metadata": {
        "id": "1c68a7a8"
      },
      "outputs": [],
      "source": [
        "import pandas as pd\n",
        "import numpy as np\n",
        "from sklearn.model_selection import train_test_split\n",
        "from sklearn.feature_extraction.text import TfidfVectorizer\n",
        "from sklearn.linear_model import LogisticRegression\n",
        "from sklearn.svm import SVC\n",
        "from sklearn.metrics import accuracy_score, confusion_matrix, roc_curve, roc_auc_score\n",
        "import nltk\n",
        "from nltk.corpus import stopwords\n",
        "from collections import Counter\n",
        "import matplotlib.pyplot as plt\n",
        "import seaborn as sns"
      ]
    },
    {
      "cell_type": "code",
      "execution_count": 3,
      "id": "84f73918",
      "metadata": {
        "colab": {
          "base_uri": "https://localhost:8080/"
        },
        "id": "84f73918",
        "outputId": "32272a2f-541f-47a1-b10a-82d037e8762b"
      },
      "outputs": [
        {
          "output_type": "stream",
          "name": "stderr",
          "text": [
            "[nltk_data] Downloading package stopwords to /root/nltk_data...\n",
            "[nltk_data]   Unzipping corpora/stopwords.zip.\n"
          ]
        },
        {
          "output_type": "execute_result",
          "data": {
            "text/plain": [
              "True"
            ]
          },
          "metadata": {},
          "execution_count": 3
        }
      ],
      "source": [
        "# Download the stopwords dataset\n",
        "\n",
        "nltk.download('stopwords')"
      ]
    },
    {
      "cell_type": "markdown",
      "id": "1a66f387",
      "metadata": {
        "id": "1a66f387"
      },
      "source": [
        "#  Load the dataset"
      ]
    },
    {
      "cell_type": "code",
      "execution_count": 10,
      "id": "cd282106",
      "metadata": {
        "colab": {
          "base_uri": "https://localhost:8080/",
          "height": 206
        },
        "id": "cd282106",
        "outputId": "109ac9d8-6b37-4d2e-cca0-1cca69642300"
      },
      "outputs": [
        {
          "output_type": "execute_result",
          "data": {
            "text/plain": [
              "     v1                                                 v2 Unnamed: 2  \\\n",
              "0   ham  Go until jurong point, crazy.. Available only ...        NaN   \n",
              "1   ham                      Ok lar... Joking wif u oni...        NaN   \n",
              "2  spam  Free entry in 2 a wkly comp to win FA Cup fina...        NaN   \n",
              "3   ham  U dun say so early hor... U c already then say...        NaN   \n",
              "4   ham  Nah I don't think he goes to usf, he lives aro...        NaN   \n",
              "\n",
              "  Unnamed: 3 Unnamed: 4  \n",
              "0        NaN        NaN  \n",
              "1        NaN        NaN  \n",
              "2        NaN        NaN  \n",
              "3        NaN        NaN  \n",
              "4        NaN        NaN  "
            ],
            "text/html": [
              "\n",
              "  <div id=\"df-1aa3ec92-cfaf-4e71-aa0f-a00b13d59edf\" class=\"colab-df-container\">\n",
              "    <div>\n",
              "<style scoped>\n",
              "    .dataframe tbody tr th:only-of-type {\n",
              "        vertical-align: middle;\n",
              "    }\n",
              "\n",
              "    .dataframe tbody tr th {\n",
              "        vertical-align: top;\n",
              "    }\n",
              "\n",
              "    .dataframe thead th {\n",
              "        text-align: right;\n",
              "    }\n",
              "</style>\n",
              "<table border=\"1\" class=\"dataframe\">\n",
              "  <thead>\n",
              "    <tr style=\"text-align: right;\">\n",
              "      <th></th>\n",
              "      <th>v1</th>\n",
              "      <th>v2</th>\n",
              "      <th>Unnamed: 2</th>\n",
              "      <th>Unnamed: 3</th>\n",
              "      <th>Unnamed: 4</th>\n",
              "    </tr>\n",
              "  </thead>\n",
              "  <tbody>\n",
              "    <tr>\n",
              "      <th>0</th>\n",
              "      <td>ham</td>\n",
              "      <td>Go until jurong point, crazy.. Available only ...</td>\n",
              "      <td>NaN</td>\n",
              "      <td>NaN</td>\n",
              "      <td>NaN</td>\n",
              "    </tr>\n",
              "    <tr>\n",
              "      <th>1</th>\n",
              "      <td>ham</td>\n",
              "      <td>Ok lar... Joking wif u oni...</td>\n",
              "      <td>NaN</td>\n",
              "      <td>NaN</td>\n",
              "      <td>NaN</td>\n",
              "    </tr>\n",
              "    <tr>\n",
              "      <th>2</th>\n",
              "      <td>spam</td>\n",
              "      <td>Free entry in 2 a wkly comp to win FA Cup fina...</td>\n",
              "      <td>NaN</td>\n",
              "      <td>NaN</td>\n",
              "      <td>NaN</td>\n",
              "    </tr>\n",
              "    <tr>\n",
              "      <th>3</th>\n",
              "      <td>ham</td>\n",
              "      <td>U dun say so early hor... U c already then say...</td>\n",
              "      <td>NaN</td>\n",
              "      <td>NaN</td>\n",
              "      <td>NaN</td>\n",
              "    </tr>\n",
              "    <tr>\n",
              "      <th>4</th>\n",
              "      <td>ham</td>\n",
              "      <td>Nah I don't think he goes to usf, he lives aro...</td>\n",
              "      <td>NaN</td>\n",
              "      <td>NaN</td>\n",
              "      <td>NaN</td>\n",
              "    </tr>\n",
              "  </tbody>\n",
              "</table>\n",
              "</div>\n",
              "    <div class=\"colab-df-buttons\">\n",
              "\n",
              "  <div class=\"colab-df-container\">\n",
              "    <button class=\"colab-df-convert\" onclick=\"convertToInteractive('df-1aa3ec92-cfaf-4e71-aa0f-a00b13d59edf')\"\n",
              "            title=\"Convert this dataframe to an interactive table.\"\n",
              "            style=\"display:none;\">\n",
              "\n",
              "  <svg xmlns=\"http://www.w3.org/2000/svg\" height=\"24px\" viewBox=\"0 -960 960 960\">\n",
              "    <path d=\"M120-120v-720h720v720H120Zm60-500h600v-160H180v160Zm220 220h160v-160H400v160Zm0 220h160v-160H400v160ZM180-400h160v-160H180v160Zm440 0h160v-160H620v160ZM180-180h160v-160H180v160Zm440 0h160v-160H620v160Z\"/>\n",
              "  </svg>\n",
              "    </button>\n",
              "\n",
              "  <style>\n",
              "    .colab-df-container {\n",
              "      display:flex;\n",
              "      gap: 12px;\n",
              "    }\n",
              "\n",
              "    .colab-df-convert {\n",
              "      background-color: #E8F0FE;\n",
              "      border: none;\n",
              "      border-radius: 50%;\n",
              "      cursor: pointer;\n",
              "      display: none;\n",
              "      fill: #1967D2;\n",
              "      height: 32px;\n",
              "      padding: 0 0 0 0;\n",
              "      width: 32px;\n",
              "    }\n",
              "\n",
              "    .colab-df-convert:hover {\n",
              "      background-color: #E2EBFA;\n",
              "      box-shadow: 0px 1px 2px rgba(60, 64, 67, 0.3), 0px 1px 3px 1px rgba(60, 64, 67, 0.15);\n",
              "      fill: #174EA6;\n",
              "    }\n",
              "\n",
              "    .colab-df-buttons div {\n",
              "      margin-bottom: 4px;\n",
              "    }\n",
              "\n",
              "    [theme=dark] .colab-df-convert {\n",
              "      background-color: #3B4455;\n",
              "      fill: #D2E3FC;\n",
              "    }\n",
              "\n",
              "    [theme=dark] .colab-df-convert:hover {\n",
              "      background-color: #434B5C;\n",
              "      box-shadow: 0px 1px 3px 1px rgba(0, 0, 0, 0.15);\n",
              "      filter: drop-shadow(0px 1px 2px rgba(0, 0, 0, 0.3));\n",
              "      fill: #FFFFFF;\n",
              "    }\n",
              "  </style>\n",
              "\n",
              "    <script>\n",
              "      const buttonEl =\n",
              "        document.querySelector('#df-1aa3ec92-cfaf-4e71-aa0f-a00b13d59edf button.colab-df-convert');\n",
              "      buttonEl.style.display =\n",
              "        google.colab.kernel.accessAllowed ? 'block' : 'none';\n",
              "\n",
              "      async function convertToInteractive(key) {\n",
              "        const element = document.querySelector('#df-1aa3ec92-cfaf-4e71-aa0f-a00b13d59edf');\n",
              "        const dataTable =\n",
              "          await google.colab.kernel.invokeFunction('convertToInteractive',\n",
              "                                                    [key], {});\n",
              "        if (!dataTable) return;\n",
              "\n",
              "        const docLinkHtml = 'Like what you see? Visit the ' +\n",
              "          '<a target=\"_blank\" href=https://colab.research.google.com/notebooks/data_table.ipynb>data table notebook</a>'\n",
              "          + ' to learn more about interactive tables.';\n",
              "        element.innerHTML = '';\n",
              "        dataTable['output_type'] = 'display_data';\n",
              "        await google.colab.output.renderOutput(dataTable, element);\n",
              "        const docLink = document.createElement('div');\n",
              "        docLink.innerHTML = docLinkHtml;\n",
              "        element.appendChild(docLink);\n",
              "      }\n",
              "    </script>\n",
              "  </div>\n",
              "\n",
              "\n",
              "<div id=\"df-218b1918-58ad-4d9a-8e90-c68ceb38acf0\">\n",
              "  <button class=\"colab-df-quickchart\" onclick=\"quickchart('df-218b1918-58ad-4d9a-8e90-c68ceb38acf0')\"\n",
              "            title=\"Suggest charts.\"\n",
              "            style=\"display:none;\">\n",
              "\n",
              "<svg xmlns=\"http://www.w3.org/2000/svg\" height=\"24px\"viewBox=\"0 0 24 24\"\n",
              "     width=\"24px\">\n",
              "    <g>\n",
              "        <path d=\"M19 3H5c-1.1 0-2 .9-2 2v14c0 1.1.9 2 2 2h14c1.1 0 2-.9 2-2V5c0-1.1-.9-2-2-2zM9 17H7v-7h2v7zm4 0h-2V7h2v10zm4 0h-2v-4h2v4z\"/>\n",
              "    </g>\n",
              "</svg>\n",
              "  </button>\n",
              "\n",
              "<style>\n",
              "  .colab-df-quickchart {\n",
              "      --bg-color: #E8F0FE;\n",
              "      --fill-color: #1967D2;\n",
              "      --hover-bg-color: #E2EBFA;\n",
              "      --hover-fill-color: #174EA6;\n",
              "      --disabled-fill-color: #AAA;\n",
              "      --disabled-bg-color: #DDD;\n",
              "  }\n",
              "\n",
              "  [theme=dark] .colab-df-quickchart {\n",
              "      --bg-color: #3B4455;\n",
              "      --fill-color: #D2E3FC;\n",
              "      --hover-bg-color: #434B5C;\n",
              "      --hover-fill-color: #FFFFFF;\n",
              "      --disabled-bg-color: #3B4455;\n",
              "      --disabled-fill-color: #666;\n",
              "  }\n",
              "\n",
              "  .colab-df-quickchart {\n",
              "    background-color: var(--bg-color);\n",
              "    border: none;\n",
              "    border-radius: 50%;\n",
              "    cursor: pointer;\n",
              "    display: none;\n",
              "    fill: var(--fill-color);\n",
              "    height: 32px;\n",
              "    padding: 0;\n",
              "    width: 32px;\n",
              "  }\n",
              "\n",
              "  .colab-df-quickchart:hover {\n",
              "    background-color: var(--hover-bg-color);\n",
              "    box-shadow: 0 1px 2px rgba(60, 64, 67, 0.3), 0 1px 3px 1px rgba(60, 64, 67, 0.15);\n",
              "    fill: var(--button-hover-fill-color);\n",
              "  }\n",
              "\n",
              "  .colab-df-quickchart-complete:disabled,\n",
              "  .colab-df-quickchart-complete:disabled:hover {\n",
              "    background-color: var(--disabled-bg-color);\n",
              "    fill: var(--disabled-fill-color);\n",
              "    box-shadow: none;\n",
              "  }\n",
              "\n",
              "  .colab-df-spinner {\n",
              "    border: 2px solid var(--fill-color);\n",
              "    border-color: transparent;\n",
              "    border-bottom-color: var(--fill-color);\n",
              "    animation:\n",
              "      spin 1s steps(1) infinite;\n",
              "  }\n",
              "\n",
              "  @keyframes spin {\n",
              "    0% {\n",
              "      border-color: transparent;\n",
              "      border-bottom-color: var(--fill-color);\n",
              "      border-left-color: var(--fill-color);\n",
              "    }\n",
              "    20% {\n",
              "      border-color: transparent;\n",
              "      border-left-color: var(--fill-color);\n",
              "      border-top-color: var(--fill-color);\n",
              "    }\n",
              "    30% {\n",
              "      border-color: transparent;\n",
              "      border-left-color: var(--fill-color);\n",
              "      border-top-color: var(--fill-color);\n",
              "      border-right-color: var(--fill-color);\n",
              "    }\n",
              "    40% {\n",
              "      border-color: transparent;\n",
              "      border-right-color: var(--fill-color);\n",
              "      border-top-color: var(--fill-color);\n",
              "    }\n",
              "    60% {\n",
              "      border-color: transparent;\n",
              "      border-right-color: var(--fill-color);\n",
              "    }\n",
              "    80% {\n",
              "      border-color: transparent;\n",
              "      border-right-color: var(--fill-color);\n",
              "      border-bottom-color: var(--fill-color);\n",
              "    }\n",
              "    90% {\n",
              "      border-color: transparent;\n",
              "      border-bottom-color: var(--fill-color);\n",
              "    }\n",
              "  }\n",
              "</style>\n",
              "\n",
              "  <script>\n",
              "    async function quickchart(key) {\n",
              "      const quickchartButtonEl =\n",
              "        document.querySelector('#' + key + ' button');\n",
              "      quickchartButtonEl.disabled = true;  // To prevent multiple clicks.\n",
              "      quickchartButtonEl.classList.add('colab-df-spinner');\n",
              "      try {\n",
              "        const charts = await google.colab.kernel.invokeFunction(\n",
              "            'suggestCharts', [key], {});\n",
              "      } catch (error) {\n",
              "        console.error('Error during call to suggestCharts:', error);\n",
              "      }\n",
              "      quickchartButtonEl.classList.remove('colab-df-spinner');\n",
              "      quickchartButtonEl.classList.add('colab-df-quickchart-complete');\n",
              "    }\n",
              "    (() => {\n",
              "      let quickchartButtonEl =\n",
              "        document.querySelector('#df-218b1918-58ad-4d9a-8e90-c68ceb38acf0 button');\n",
              "      quickchartButtonEl.style.display =\n",
              "        google.colab.kernel.accessAllowed ? 'block' : 'none';\n",
              "    })();\n",
              "  </script>\n",
              "</div>\n",
              "    </div>\n",
              "  </div>\n"
            ]
          },
          "metadata": {},
          "execution_count": 10
        }
      ],
      "source": [
        "# Load the dataset\n",
        "df = pd.read_csv(\"spam.csv\",encoding='latin-1')\n",
        "\n",
        "# Display the first few rows of the dataset\n",
        "df.head()"
      ]
    },
    {
      "cell_type": "markdown",
      "source": [
        "# Remove unnecessary columns from the DataFrame"
      ],
      "metadata": {
        "id": "GyYBrfoxTAU5"
      },
      "id": "GyYBrfoxTAU5"
    },
    {
      "cell_type": "code",
      "execution_count": 11,
      "id": "32804b8f",
      "metadata": {
        "id": "32804b8f"
      },
      "outputs": [],
      "source": [
        "columns_to_drop = [\"Unnamed: 2\", \"Unnamed: 3\", \"Unnamed: 4\"]\n",
        "df.drop(columns=columns_to_drop, inplace=True)"
      ]
    },
    {
      "cell_type": "markdown",
      "id": "9f1ac0ac",
      "metadata": {
        "id": "9f1ac0ac"
      },
      "source": [
        "# Exploring dataset"
      ]
    },
    {
      "cell_type": "code",
      "execution_count": 12,
      "id": "50e964df",
      "metadata": {
        "colab": {
          "base_uri": "https://localhost:8080/",
          "height": 811
        },
        "id": "50e964df",
        "outputId": "115577d0-e548-4096-b3d5-dd46cc389dda"
      },
      "outputs": [
        {
          "output_type": "execute_result",
          "data": {
            "text/plain": [
              "        v1                                                 v2\n",
              "0      ham  Go until jurong point, crazy.. Available only ...\n",
              "1      ham                      Ok lar... Joking wif u oni...\n",
              "2     spam  Free entry in 2 a wkly comp to win FA Cup fina...\n",
              "3      ham  U dun say so early hor... U c already then say...\n",
              "4      ham  Nah I don't think he goes to usf, he lives aro...\n",
              "...    ...                                                ...\n",
              "5567  spam  This is the 2nd time we have tried 2 contact u...\n",
              "5568   ham              Will Ì_ b going to esplanade fr home?\n",
              "5569   ham  Pity, * was in mood for that. So...any other s...\n",
              "5570   ham  The guy did some bitching but I acted like i'd...\n",
              "5571   ham                         Rofl. Its true to its name\n",
              "\n",
              "[5572 rows x 2 columns]"
            ],
            "text/html": [
              "\n",
              "  <div id=\"df-87391b96-8718-4c9b-ab32-71400eba4bea\" class=\"colab-df-container\">\n",
              "    <div>\n",
              "<style scoped>\n",
              "    .dataframe tbody tr th:only-of-type {\n",
              "        vertical-align: middle;\n",
              "    }\n",
              "\n",
              "    .dataframe tbody tr th {\n",
              "        vertical-align: top;\n",
              "    }\n",
              "\n",
              "    .dataframe thead th {\n",
              "        text-align: right;\n",
              "    }\n",
              "</style>\n",
              "<table border=\"1\" class=\"dataframe\">\n",
              "  <thead>\n",
              "    <tr style=\"text-align: right;\">\n",
              "      <th></th>\n",
              "      <th>v1</th>\n",
              "      <th>v2</th>\n",
              "    </tr>\n",
              "  </thead>\n",
              "  <tbody>\n",
              "    <tr>\n",
              "      <th>0</th>\n",
              "      <td>ham</td>\n",
              "      <td>Go until jurong point, crazy.. Available only ...</td>\n",
              "    </tr>\n",
              "    <tr>\n",
              "      <th>1</th>\n",
              "      <td>ham</td>\n",
              "      <td>Ok lar... Joking wif u oni...</td>\n",
              "    </tr>\n",
              "    <tr>\n",
              "      <th>2</th>\n",
              "      <td>spam</td>\n",
              "      <td>Free entry in 2 a wkly comp to win FA Cup fina...</td>\n",
              "    </tr>\n",
              "    <tr>\n",
              "      <th>3</th>\n",
              "      <td>ham</td>\n",
              "      <td>U dun say so early hor... U c already then say...</td>\n",
              "    </tr>\n",
              "    <tr>\n",
              "      <th>4</th>\n",
              "      <td>ham</td>\n",
              "      <td>Nah I don't think he goes to usf, he lives aro...</td>\n",
              "    </tr>\n",
              "    <tr>\n",
              "      <th>...</th>\n",
              "      <td>...</td>\n",
              "      <td>...</td>\n",
              "    </tr>\n",
              "    <tr>\n",
              "      <th>5567</th>\n",
              "      <td>spam</td>\n",
              "      <td>This is the 2nd time we have tried 2 contact u...</td>\n",
              "    </tr>\n",
              "    <tr>\n",
              "      <th>5568</th>\n",
              "      <td>ham</td>\n",
              "      <td>Will Ì_ b going to esplanade fr home?</td>\n",
              "    </tr>\n",
              "    <tr>\n",
              "      <th>5569</th>\n",
              "      <td>ham</td>\n",
              "      <td>Pity, * was in mood for that. So...any other s...</td>\n",
              "    </tr>\n",
              "    <tr>\n",
              "      <th>5570</th>\n",
              "      <td>ham</td>\n",
              "      <td>The guy did some bitching but I acted like i'd...</td>\n",
              "    </tr>\n",
              "    <tr>\n",
              "      <th>5571</th>\n",
              "      <td>ham</td>\n",
              "      <td>Rofl. Its true to its name</td>\n",
              "    </tr>\n",
              "  </tbody>\n",
              "</table>\n",
              "<p>5572 rows × 2 columns</p>\n",
              "</div>\n",
              "    <div class=\"colab-df-buttons\">\n",
              "\n",
              "  <div class=\"colab-df-container\">\n",
              "    <button class=\"colab-df-convert\" onclick=\"convertToInteractive('df-87391b96-8718-4c9b-ab32-71400eba4bea')\"\n",
              "            title=\"Convert this dataframe to an interactive table.\"\n",
              "            style=\"display:none;\">\n",
              "\n",
              "  <svg xmlns=\"http://www.w3.org/2000/svg\" height=\"24px\" viewBox=\"0 -960 960 960\">\n",
              "    <path d=\"M120-120v-720h720v720H120Zm60-500h600v-160H180v160Zm220 220h160v-160H400v160Zm0 220h160v-160H400v160ZM180-400h160v-160H180v160Zm440 0h160v-160H620v160ZM180-180h160v-160H180v160Zm440 0h160v-160H620v160Z\"/>\n",
              "  </svg>\n",
              "    </button>\n",
              "\n",
              "  <style>\n",
              "    .colab-df-container {\n",
              "      display:flex;\n",
              "      gap: 12px;\n",
              "    }\n",
              "\n",
              "    .colab-df-convert {\n",
              "      background-color: #E8F0FE;\n",
              "      border: none;\n",
              "      border-radius: 50%;\n",
              "      cursor: pointer;\n",
              "      display: none;\n",
              "      fill: #1967D2;\n",
              "      height: 32px;\n",
              "      padding: 0 0 0 0;\n",
              "      width: 32px;\n",
              "    }\n",
              "\n",
              "    .colab-df-convert:hover {\n",
              "      background-color: #E2EBFA;\n",
              "      box-shadow: 0px 1px 2px rgba(60, 64, 67, 0.3), 0px 1px 3px 1px rgba(60, 64, 67, 0.15);\n",
              "      fill: #174EA6;\n",
              "    }\n",
              "\n",
              "    .colab-df-buttons div {\n",
              "      margin-bottom: 4px;\n",
              "    }\n",
              "\n",
              "    [theme=dark] .colab-df-convert {\n",
              "      background-color: #3B4455;\n",
              "      fill: #D2E3FC;\n",
              "    }\n",
              "\n",
              "    [theme=dark] .colab-df-convert:hover {\n",
              "      background-color: #434B5C;\n",
              "      box-shadow: 0px 1px 3px 1px rgba(0, 0, 0, 0.15);\n",
              "      filter: drop-shadow(0px 1px 2px rgba(0, 0, 0, 0.3));\n",
              "      fill: #FFFFFF;\n",
              "    }\n",
              "  </style>\n",
              "\n",
              "    <script>\n",
              "      const buttonEl =\n",
              "        document.querySelector('#df-87391b96-8718-4c9b-ab32-71400eba4bea button.colab-df-convert');\n",
              "      buttonEl.style.display =\n",
              "        google.colab.kernel.accessAllowed ? 'block' : 'none';\n",
              "\n",
              "      async function convertToInteractive(key) {\n",
              "        const element = document.querySelector('#df-87391b96-8718-4c9b-ab32-71400eba4bea');\n",
              "        const dataTable =\n",
              "          await google.colab.kernel.invokeFunction('convertToInteractive',\n",
              "                                                    [key], {});\n",
              "        if (!dataTable) return;\n",
              "\n",
              "        const docLinkHtml = 'Like what you see? Visit the ' +\n",
              "          '<a target=\"_blank\" href=https://colab.research.google.com/notebooks/data_table.ipynb>data table notebook</a>'\n",
              "          + ' to learn more about interactive tables.';\n",
              "        element.innerHTML = '';\n",
              "        dataTable['output_type'] = 'display_data';\n",
              "        await google.colab.output.renderOutput(dataTable, element);\n",
              "        const docLink = document.createElement('div');\n",
              "        docLink.innerHTML = docLinkHtml;\n",
              "        element.appendChild(docLink);\n",
              "      }\n",
              "    </script>\n",
              "  </div>\n",
              "\n",
              "\n",
              "<div id=\"df-c3f645c8-51f7-4eb3-b601-939e1ca70cb5\">\n",
              "  <button class=\"colab-df-quickchart\" onclick=\"quickchart('df-c3f645c8-51f7-4eb3-b601-939e1ca70cb5')\"\n",
              "            title=\"Suggest charts.\"\n",
              "            style=\"display:none;\">\n",
              "\n",
              "<svg xmlns=\"http://www.w3.org/2000/svg\" height=\"24px\"viewBox=\"0 0 24 24\"\n",
              "     width=\"24px\">\n",
              "    <g>\n",
              "        <path d=\"M19 3H5c-1.1 0-2 .9-2 2v14c0 1.1.9 2 2 2h14c1.1 0 2-.9 2-2V5c0-1.1-.9-2-2-2zM9 17H7v-7h2v7zm4 0h-2V7h2v10zm4 0h-2v-4h2v4z\"/>\n",
              "    </g>\n",
              "</svg>\n",
              "  </button>\n",
              "\n",
              "<style>\n",
              "  .colab-df-quickchart {\n",
              "      --bg-color: #E8F0FE;\n",
              "      --fill-color: #1967D2;\n",
              "      --hover-bg-color: #E2EBFA;\n",
              "      --hover-fill-color: #174EA6;\n",
              "      --disabled-fill-color: #AAA;\n",
              "      --disabled-bg-color: #DDD;\n",
              "  }\n",
              "\n",
              "  [theme=dark] .colab-df-quickchart {\n",
              "      --bg-color: #3B4455;\n",
              "      --fill-color: #D2E3FC;\n",
              "      --hover-bg-color: #434B5C;\n",
              "      --hover-fill-color: #FFFFFF;\n",
              "      --disabled-bg-color: #3B4455;\n",
              "      --disabled-fill-color: #666;\n",
              "  }\n",
              "\n",
              "  .colab-df-quickchart {\n",
              "    background-color: var(--bg-color);\n",
              "    border: none;\n",
              "    border-radius: 50%;\n",
              "    cursor: pointer;\n",
              "    display: none;\n",
              "    fill: var(--fill-color);\n",
              "    height: 32px;\n",
              "    padding: 0;\n",
              "    width: 32px;\n",
              "  }\n",
              "\n",
              "  .colab-df-quickchart:hover {\n",
              "    background-color: var(--hover-bg-color);\n",
              "    box-shadow: 0 1px 2px rgba(60, 64, 67, 0.3), 0 1px 3px 1px rgba(60, 64, 67, 0.15);\n",
              "    fill: var(--button-hover-fill-color);\n",
              "  }\n",
              "\n",
              "  .colab-df-quickchart-complete:disabled,\n",
              "  .colab-df-quickchart-complete:disabled:hover {\n",
              "    background-color: var(--disabled-bg-color);\n",
              "    fill: var(--disabled-fill-color);\n",
              "    box-shadow: none;\n",
              "  }\n",
              "\n",
              "  .colab-df-spinner {\n",
              "    border: 2px solid var(--fill-color);\n",
              "    border-color: transparent;\n",
              "    border-bottom-color: var(--fill-color);\n",
              "    animation:\n",
              "      spin 1s steps(1) infinite;\n",
              "  }\n",
              "\n",
              "  @keyframes spin {\n",
              "    0% {\n",
              "      border-color: transparent;\n",
              "      border-bottom-color: var(--fill-color);\n",
              "      border-left-color: var(--fill-color);\n",
              "    }\n",
              "    20% {\n",
              "      border-color: transparent;\n",
              "      border-left-color: var(--fill-color);\n",
              "      border-top-color: var(--fill-color);\n",
              "    }\n",
              "    30% {\n",
              "      border-color: transparent;\n",
              "      border-left-color: var(--fill-color);\n",
              "      border-top-color: var(--fill-color);\n",
              "      border-right-color: var(--fill-color);\n",
              "    }\n",
              "    40% {\n",
              "      border-color: transparent;\n",
              "      border-right-color: var(--fill-color);\n",
              "      border-top-color: var(--fill-color);\n",
              "    }\n",
              "    60% {\n",
              "      border-color: transparent;\n",
              "      border-right-color: var(--fill-color);\n",
              "    }\n",
              "    80% {\n",
              "      border-color: transparent;\n",
              "      border-right-color: var(--fill-color);\n",
              "      border-bottom-color: var(--fill-color);\n",
              "    }\n",
              "    90% {\n",
              "      border-color: transparent;\n",
              "      border-bottom-color: var(--fill-color);\n",
              "    }\n",
              "  }\n",
              "</style>\n",
              "\n",
              "  <script>\n",
              "    async function quickchart(key) {\n",
              "      const quickchartButtonEl =\n",
              "        document.querySelector('#' + key + ' button');\n",
              "      quickchartButtonEl.disabled = true;  // To prevent multiple clicks.\n",
              "      quickchartButtonEl.classList.add('colab-df-spinner');\n",
              "      try {\n",
              "        const charts = await google.colab.kernel.invokeFunction(\n",
              "            'suggestCharts', [key], {});\n",
              "      } catch (error) {\n",
              "        console.error('Error during call to suggestCharts:', error);\n",
              "      }\n",
              "      quickchartButtonEl.classList.remove('colab-df-spinner');\n",
              "      quickchartButtonEl.classList.add('colab-df-quickchart-complete');\n",
              "    }\n",
              "    (() => {\n",
              "      let quickchartButtonEl =\n",
              "        document.querySelector('#df-c3f645c8-51f7-4eb3-b601-939e1ca70cb5 button');\n",
              "      quickchartButtonEl.style.display =\n",
              "        google.colab.kernel.accessAllowed ? 'block' : 'none';\n",
              "    })();\n",
              "  </script>\n",
              "</div>\n",
              "    </div>\n",
              "  </div>\n"
            ]
          },
          "metadata": {},
          "execution_count": 12
        }
      ],
      "source": [
        "df"
      ]
    },
    {
      "cell_type": "code",
      "execution_count": 13,
      "id": "92a1f956",
      "metadata": {
        "colab": {
          "base_uri": "https://localhost:8080/"
        },
        "id": "92a1f956",
        "outputId": "ca2170ca-1585-4630-ca13-5b403f836189"
      },
      "outputs": [
        {
          "output_type": "stream",
          "name": "stdout",
          "text": [
            "<class 'pandas.core.frame.DataFrame'>\n",
            "RangeIndex: 5572 entries, 0 to 5571\n",
            "Data columns (total 2 columns):\n",
            " #   Column  Non-Null Count  Dtype \n",
            "---  ------  --------------  ----- \n",
            " 0   v1      5572 non-null   object\n",
            " 1   v2      5572 non-null   object\n",
            "dtypes: object(2)\n",
            "memory usage: 87.2+ KB\n"
          ]
        }
      ],
      "source": [
        "df.info()"
      ]
    },
    {
      "cell_type": "code",
      "execution_count": 14,
      "id": "2669c731",
      "metadata": {
        "colab": {
          "base_uri": "https://localhost:8080/"
        },
        "id": "2669c731",
        "outputId": "9580b2e0-b14c-4045-841e-3bbc337bf055"
      },
      "outputs": [
        {
          "output_type": "execute_result",
          "data": {
            "text/plain": [
              "(5572, 2)"
            ]
          },
          "metadata": {},
          "execution_count": 14
        }
      ],
      "source": [
        "df.shape"
      ]
    },
    {
      "cell_type": "code",
      "execution_count": 15,
      "id": "548d4798",
      "metadata": {
        "colab": {
          "base_uri": "https://localhost:8080/",
          "height": 881
        },
        "id": "548d4798",
        "outputId": "0969cb7e-b257-4e81-d64c-b091b8b4efd6"
      },
      "outputs": [
        {
          "output_type": "execute_result",
          "data": {
            "text/plain": [
              "          v1                      v2\n",
              "count   5572                    5572\n",
              "unique     2                    5169\n",
              "top      ham  Sorry, I'll call later\n",
              "freq    4825                      30"
            ],
            "text/html": [
              "\n",
              "  <div id=\"df-a9e79dfb-1a9b-4eab-8e7c-3758acf3cfb0\" class=\"colab-df-container\">\n",
              "    <div>\n",
              "<style scoped>\n",
              "    .dataframe tbody tr th:only-of-type {\n",
              "        vertical-align: middle;\n",
              "    }\n",
              "\n",
              "    .dataframe tbody tr th {\n",
              "        vertical-align: top;\n",
              "    }\n",
              "\n",
              "    .dataframe thead th {\n",
              "        text-align: right;\n",
              "    }\n",
              "</style>\n",
              "<table border=\"1\" class=\"dataframe\">\n",
              "  <thead>\n",
              "    <tr style=\"text-align: right;\">\n",
              "      <th></th>\n",
              "      <th>v1</th>\n",
              "      <th>v2</th>\n",
              "    </tr>\n",
              "  </thead>\n",
              "  <tbody>\n",
              "    <tr>\n",
              "      <th>count</th>\n",
              "      <td>5572</td>\n",
              "      <td>5572</td>\n",
              "    </tr>\n",
              "    <tr>\n",
              "      <th>unique</th>\n",
              "      <td>2</td>\n",
              "      <td>5169</td>\n",
              "    </tr>\n",
              "    <tr>\n",
              "      <th>top</th>\n",
              "      <td>ham</td>\n",
              "      <td>Sorry, I'll call later</td>\n",
              "    </tr>\n",
              "    <tr>\n",
              "      <th>freq</th>\n",
              "      <td>4825</td>\n",
              "      <td>30</td>\n",
              "    </tr>\n",
              "  </tbody>\n",
              "</table>\n",
              "</div>\n",
              "    <div class=\"colab-df-buttons\">\n",
              "\n",
              "  <div class=\"colab-df-container\">\n",
              "    <button class=\"colab-df-convert\" onclick=\"convertToInteractive('df-a9e79dfb-1a9b-4eab-8e7c-3758acf3cfb0')\"\n",
              "            title=\"Convert this dataframe to an interactive table.\"\n",
              "            style=\"display:none;\">\n",
              "\n",
              "  <svg xmlns=\"http://www.w3.org/2000/svg\" height=\"24px\" viewBox=\"0 -960 960 960\">\n",
              "    <path d=\"M120-120v-720h720v720H120Zm60-500h600v-160H180v160Zm220 220h160v-160H400v160Zm0 220h160v-160H400v160ZM180-400h160v-160H180v160Zm440 0h160v-160H620v160ZM180-180h160v-160H180v160Zm440 0h160v-160H620v160Z\"/>\n",
              "  </svg>\n",
              "    </button>\n",
              "\n",
              "  <style>\n",
              "    .colab-df-container {\n",
              "      display:flex;\n",
              "      gap: 12px;\n",
              "    }\n",
              "\n",
              "    .colab-df-convert {\n",
              "      background-color: #E8F0FE;\n",
              "      border: none;\n",
              "      border-radius: 50%;\n",
              "      cursor: pointer;\n",
              "      display: none;\n",
              "      fill: #1967D2;\n",
              "      height: 32px;\n",
              "      padding: 0 0 0 0;\n",
              "      width: 32px;\n",
              "    }\n",
              "\n",
              "    .colab-df-convert:hover {\n",
              "      background-color: #E2EBFA;\n",
              "      box-shadow: 0px 1px 2px rgba(60, 64, 67, 0.3), 0px 1px 3px 1px rgba(60, 64, 67, 0.15);\n",
              "      fill: #174EA6;\n",
              "    }\n",
              "\n",
              "    .colab-df-buttons div {\n",
              "      margin-bottom: 4px;\n",
              "    }\n",
              "\n",
              "    [theme=dark] .colab-df-convert {\n",
              "      background-color: #3B4455;\n",
              "      fill: #D2E3FC;\n",
              "    }\n",
              "\n",
              "    [theme=dark] .colab-df-convert:hover {\n",
              "      background-color: #434B5C;\n",
              "      box-shadow: 0px 1px 3px 1px rgba(0, 0, 0, 0.15);\n",
              "      filter: drop-shadow(0px 1px 2px rgba(0, 0, 0, 0.3));\n",
              "      fill: #FFFFFF;\n",
              "    }\n",
              "  </style>\n",
              "\n",
              "    <script>\n",
              "      const buttonEl =\n",
              "        document.querySelector('#df-a9e79dfb-1a9b-4eab-8e7c-3758acf3cfb0 button.colab-df-convert');\n",
              "      buttonEl.style.display =\n",
              "        google.colab.kernel.accessAllowed ? 'block' : 'none';\n",
              "\n",
              "      async function convertToInteractive(key) {\n",
              "        const element = document.querySelector('#df-a9e79dfb-1a9b-4eab-8e7c-3758acf3cfb0');\n",
              "        const dataTable =\n",
              "          await google.colab.kernel.invokeFunction('convertToInteractive',\n",
              "                                                    [key], {});\n",
              "        if (!dataTable) return;\n",
              "\n",
              "        const docLinkHtml = 'Like what you see? Visit the ' +\n",
              "          '<a target=\"_blank\" href=https://colab.research.google.com/notebooks/data_table.ipynb>data table notebook</a>'\n",
              "          + ' to learn more about interactive tables.';\n",
              "        element.innerHTML = '';\n",
              "        dataTable['output_type'] = 'display_data';\n",
              "        await google.colab.output.renderOutput(dataTable, element);\n",
              "        const docLink = document.createElement('div');\n",
              "        docLink.innerHTML = docLinkHtml;\n",
              "        element.appendChild(docLink);\n",
              "      }\n",
              "    </script>\n",
              "  </div>\n",
              "\n",
              "\n",
              "<div id=\"df-06530cc8-6724-423f-868a-3e6c6379a5bb\">\n",
              "  <button class=\"colab-df-quickchart\" onclick=\"quickchart('df-06530cc8-6724-423f-868a-3e6c6379a5bb')\"\n",
              "            title=\"Suggest charts.\"\n",
              "            style=\"display:none;\">\n",
              "\n",
              "<svg xmlns=\"http://www.w3.org/2000/svg\" height=\"24px\"viewBox=\"0 0 24 24\"\n",
              "     width=\"24px\">\n",
              "    <g>\n",
              "        <path d=\"M19 3H5c-1.1 0-2 .9-2 2v14c0 1.1.9 2 2 2h14c1.1 0 2-.9 2-2V5c0-1.1-.9-2-2-2zM9 17H7v-7h2v7zm4 0h-2V7h2v10zm4 0h-2v-4h2v4z\"/>\n",
              "    </g>\n",
              "</svg>\n",
              "  </button>\n",
              "\n",
              "<style>\n",
              "  .colab-df-quickchart {\n",
              "      --bg-color: #E8F0FE;\n",
              "      --fill-color: #1967D2;\n",
              "      --hover-bg-color: #E2EBFA;\n",
              "      --hover-fill-color: #174EA6;\n",
              "      --disabled-fill-color: #AAA;\n",
              "      --disabled-bg-color: #DDD;\n",
              "  }\n",
              "\n",
              "  [theme=dark] .colab-df-quickchart {\n",
              "      --bg-color: #3B4455;\n",
              "      --fill-color: #D2E3FC;\n",
              "      --hover-bg-color: #434B5C;\n",
              "      --hover-fill-color: #FFFFFF;\n",
              "      --disabled-bg-color: #3B4455;\n",
              "      --disabled-fill-color: #666;\n",
              "  }\n",
              "\n",
              "  .colab-df-quickchart {\n",
              "    background-color: var(--bg-color);\n",
              "    border: none;\n",
              "    border-radius: 50%;\n",
              "    cursor: pointer;\n",
              "    display: none;\n",
              "    fill: var(--fill-color);\n",
              "    height: 32px;\n",
              "    padding: 0;\n",
              "    width: 32px;\n",
              "  }\n",
              "\n",
              "  .colab-df-quickchart:hover {\n",
              "    background-color: var(--hover-bg-color);\n",
              "    box-shadow: 0 1px 2px rgba(60, 64, 67, 0.3), 0 1px 3px 1px rgba(60, 64, 67, 0.15);\n",
              "    fill: var(--button-hover-fill-color);\n",
              "  }\n",
              "\n",
              "  .colab-df-quickchart-complete:disabled,\n",
              "  .colab-df-quickchart-complete:disabled:hover {\n",
              "    background-color: var(--disabled-bg-color);\n",
              "    fill: var(--disabled-fill-color);\n",
              "    box-shadow: none;\n",
              "  }\n",
              "\n",
              "  .colab-df-spinner {\n",
              "    border: 2px solid var(--fill-color);\n",
              "    border-color: transparent;\n",
              "    border-bottom-color: var(--fill-color);\n",
              "    animation:\n",
              "      spin 1s steps(1) infinite;\n",
              "  }\n",
              "\n",
              "  @keyframes spin {\n",
              "    0% {\n",
              "      border-color: transparent;\n",
              "      border-bottom-color: var(--fill-color);\n",
              "      border-left-color: var(--fill-color);\n",
              "    }\n",
              "    20% {\n",
              "      border-color: transparent;\n",
              "      border-left-color: var(--fill-color);\n",
              "      border-top-color: var(--fill-color);\n",
              "    }\n",
              "    30% {\n",
              "      border-color: transparent;\n",
              "      border-left-color: var(--fill-color);\n",
              "      border-top-color: var(--fill-color);\n",
              "      border-right-color: var(--fill-color);\n",
              "    }\n",
              "    40% {\n",
              "      border-color: transparent;\n",
              "      border-right-color: var(--fill-color);\n",
              "      border-top-color: var(--fill-color);\n",
              "    }\n",
              "    60% {\n",
              "      border-color: transparent;\n",
              "      border-right-color: var(--fill-color);\n",
              "    }\n",
              "    80% {\n",
              "      border-color: transparent;\n",
              "      border-right-color: var(--fill-color);\n",
              "      border-bottom-color: var(--fill-color);\n",
              "    }\n",
              "    90% {\n",
              "      border-color: transparent;\n",
              "      border-bottom-color: var(--fill-color);\n",
              "    }\n",
              "  }\n",
              "</style>\n",
              "\n",
              "  <script>\n",
              "    async function quickchart(key) {\n",
              "      const quickchartButtonEl =\n",
              "        document.querySelector('#' + key + ' button');\n",
              "      quickchartButtonEl.disabled = true;  // To prevent multiple clicks.\n",
              "      quickchartButtonEl.classList.add('colab-df-spinner');\n",
              "      try {\n",
              "        const charts = await google.colab.kernel.invokeFunction(\n",
              "            'suggestCharts', [key], {});\n",
              "      } catch (error) {\n",
              "        console.error('Error during call to suggestCharts:', error);\n",
              "      }\n",
              "      quickchartButtonEl.classList.remove('colab-df-spinner');\n",
              "      quickchartButtonEl.classList.add('colab-df-quickchart-complete');\n",
              "    }\n",
              "    (() => {\n",
              "      let quickchartButtonEl =\n",
              "        document.querySelector('#df-06530cc8-6724-423f-868a-3e6c6379a5bb button');\n",
              "      quickchartButtonEl.style.display =\n",
              "        google.colab.kernel.accessAllowed ? 'block' : 'none';\n",
              "    })();\n",
              "  </script>\n",
              "</div>\n",
              "    </div>\n",
              "  </div>\n"
            ]
          },
          "metadata": {},
          "execution_count": 15
        },
        {
          "output_type": "display_data",
          "data": {
            "text/plain": [
              "<google.colab._quickchart_helpers.SectionTitle at 0x7c6ccba4a950>"
            ],
            "text/html": [
              "<h4 class=\"colab-quickchart-section-title\">Categorical distributions</h4>\n",
              "<style>\n",
              "  .colab-quickchart-section-title {\n",
              "      clear: both;\n",
              "  }\n",
              "</style>"
            ]
          },
          "metadata": {}
        },
        {
          "output_type": "display_data",
          "data": {
            "text/plain": [
              "import numpy as np\n",
              "from google.colab import autoviz\n",
              "\n",
              "def categorical_histogram(df, colname, figscale=1, mpl_palette_name='Dark2'):\n",
              "  from matplotlib import pyplot as plt\n",
              "  import seaborn as sns\n",
              "  df.groupby(colname).size().plot(kind='barh', color=sns.palettes.mpl_palette(mpl_palette_name), figsize=(8*figscale, 4.8*figscale))\n",
              "  plt.gca().spines[['top', 'right',]].set_visible(False)\n",
              "  return autoviz.MplChart.from_current_mpl_state()\n",
              "\n",
              "chart = categorical_histogram(_df_0, *['v1'], **{})\n",
              "chart"
            ],
            "text/html": [
              "      <div class=\"colab-quickchart-chart-with-code\" id=\"chart-488e98b6-0bfd-4b48-b7c8-e6a94a888693\">\n",
              "        <img src=\"data:image/png;base64,iVBORw0KGgoAAAANSUhEUgAAAXsAAADgCAYAAADi6MY/AAAAOXRFWHRTb2Z0d2FyZQBNYXRwbG90\n",
              "bGliIHZlcnNpb24zLjcuMSwgaHR0cHM6Ly9tYXRwbG90bGliLm9yZy/bCgiHAAAACXBIWXMAAA9h\n",
              "AAAPYQGoP6dpAAAR1klEQVR4nO3de2yUdb7H8c/YylBhKYIXGrAto9QWrG2hrV1ZOBRiFpWLl7Bg\n",
              "YGG7lCrrrnc0BYzihRoOciSoUUitB0gQUEHXyzECCqxmga5cRLIK4lDRFhC1g3Upbed3/jBOHAs6\n",
              "0Hnm6fT3fiWTMM88M/P9BfPmcS7PeIwxRgCADu0stwcAADiP2AOABYg9AFiA2AOABYg9AFiA2AOA\n",
              "BYg9AFiA2AOABayK/cKFC90eAQBcYVXsDxw44PYIAOAKq2IPALYi9gBgAWIPABYg9gBgAWIPABYg\n",
              "9gBgAWIPABYg9gBgAWIPABYg9gBggUS3B4ilhv+tVt3//bfbYwBAK732zHD08TmyBwALEHsAsACx\n",
              "BwALEHsAsACxBwALEHsAsACxBwALxCz2Ho9H3377bayeDgDwExzZA4AFYhr7p59+WoWFherbt6+q\n",
              "qqpC2++55x4VFBQoNzdXQ4cO1ccffxy6zePx6NFHH9UVV1yh9PR0rV27VhUVFcrPz1e/fv307rvv\n",
              "xnIJABCXYhp7r9errVu36s0339Rtt92m5uZmSdJ9992nbdu2aceOHfrLX/6i22+/Pex+Xbt21ZYt\n",
              "W1RZWalJkyYpJSVF1dXVmjt3rmbMOPlXjBsbGxUIBMIuLSbo+BoBoD2K6blxJk6cKEnKzMxUYmKi\n",
              "6urq1KdPH7399ttatGiRjh07pmAwqK+//jrsfuPHj5ck5efnq6GhQRMmTJAkFRYWau/evSd9roqK\n",
              "Cs2ZMyds26DOqdFeEgDEhZge2Xfu3Dn054SEBDU3N6umpkZ//etftXz5cu3evVsvvPCCjh8/ftL7\n",
              "JSQktLr+4/8d/Fx5ebnq6+vDLrlJFzmxLABo91w/62V9fb3OPvtspaSkyBijJ598MiqP6/V65fV6\n",
              "w7YleHg/GoCdXK9fdna2JkyYoAEDBqigoECpqbzUAgDR5jHGGLeHiJWbew7VnAtHuz0GALTC+ewB\n",
              "AG1G7AHAAsQeACxA7AHAAsQeACxA7AHAAq5/qSqWukzJV68Fzn68CQDaI47sAcACxB4ALEDsAcAC\n",
              "xB4ALEDsAcACxB4ALEDsAcACxB4ALEDsAcACxB4ALEDsAcACxB4ALEDsAcACxB4ALEDsAcACxB4A\n",
              "LEDsAcACxB4ALEDsAcACxB4ALEDsAcACxB4ALOAxxhi3h4iV/IHXafh/lbo9BgC0Mu9/Rjn6+BzZ\n",
              "A4AFiD0AWIDYA4AFiD0AWIDYA4AFiD0AWIDYA4AFEp188PT0dHm9XiUlJUmSysvLNX78+FNuP3r0\n",
              "qEaMGBG6//fff6/9+/fr8OHD6tGjh0pKSvTee+8pKSlJXbt21RNPPKGCggInlwAAHYKjsZeklStX\n",
              "Kjc3N6LtPXv21I4dO0LX58+fr40bN6pHjx6SpOuvv15LlixRYmKiXnvtNY0bN05+v9+54QGgg2jX\n",
              "L+NUVlZq6tSpoetjxoxRYuIP/z4VFRXpiy++UHNzs1vjAUDccDz2kydPVnZ2tqZOnaojR4786vYf\n",
              "vf/++/rmm280atTJv0K8cOFCXXPNNaH4/1xjY6MCgUDYxQSD0VkUAMQZR2O/adMm7dq1Sx988IHO\n",
              "O+88TZky5Re3/1RlZaUmT5580pgvX75cq1at0uLFi0/53BUVFUpOTg671B76JHqLA4A4ErMTodXW\n",
              "1iojI0PHjh371e3fffedUlJStG3bNmVmZobtv3LlSs2ePVvr169XamrqKZ+vsbFRjY2NYduKh07S\n",
              "iOKyKKwGAKLL6ROhOfYGbUNDg5qamtS9e3dJ0ooVK5SXl3fK7T+1cuVK5eTktAr9qlWrNHv2bK1b\n",
              "t+4XQy9JXq9XXq83bJvnrHb9FgUAOMax2B86dEg33nijWlpaZIyRz+fT0qVLT7n9pyorKzVt2rRW\n",
              "jzlx4kT16tVLY8eODW1bv369evbs6dQyAKBDcCz2Pp9P27dvP+ltp9r+o/fff/+k25uamto8FwDY\n",
              "iNc1AMACxB4ALEDsAcACxB4ALEDsAcACxB4ALOD4WS/bk6HDfJq3wNlvqQFAe8SRPQBYgNgDgAWI\n",
              "PQBYgNgDgAWIPQBYgNgDgAWIPQBYoM2xnzVrVjTmAAA4qM2xX7ZsWTTmAAA4KKJv0A4cOPCk240x\n",
              "Onz4cFQHAgBEX0Sx379/v1asWKFzzjknbLsxRuPHj3dkMABA9EQU+7y8PCUnJ+vKK69sdVunTp2i\n",
              "PhQAILoiiv3zzz+vbt266ejRo61+3PuTTz5xZDAAQPRE9AZtWlqazj33XGVkZGjcuHF64403FAwG\n",
              "JUlJSUmODggAaLvT+jROTU2Nrr32Ws2bN09paWkqLy/nyB4A4sBpxb5Lly7605/+pHfffVebNm3S\n",
              "0aNHlZWV5dRsAIAoOe0fL2lqatKrr76q5557Ttu2bdP06dOdmAsAEEWnFfu//e1vWr16tfLy8lRS\n",
              "UqI1a9bwaRwAiAOnFfuUlBRVV1erT58+Ts0DAHDAacV+5syZTs0BAHAQZ70EAAsQewCwgMcYY9we\n",
              "IlZKBnhUXsC/bwDan4znWxx9fMoHABYg9gBgAWIPABYg9gBgAWIPABYg9gBgAWIPABYg9gBggZjE\n",
              "vqqqSh6PR2vXrpUkbd26VUVFRcrLy1NWVpbmzZsX2nfmzJnKzMxUTk6O8vPz9dZbb4Vue/DBB3X+\n",
              "+ecrNzdXubm5mjhxYizGB4C4d9rnsz9dfr9fS5YsUVFRUWhbWVmZHnroIY0ZM0Zff/21MjMzNWrU\n",
              "KPXv319DhgzR/fffr6SkJO3cuVNDhw7Vl19+qS5dukiSJk6cqCeeeMLpsQGgQ3H0yD4YDKq0tFSL\n",
              "Fi2S1+sNbfd4PPr2228lSQ0NDerUqZN69OghSbr66qtDv2ubnZ0tY4yOHDly2s/d2NioQCAQdmkJ\n",
              "tn1NABCPHI39ggULNHjwYA0aNChse1VVle6//36lpqYqIyNDc+fOVa9evVrdv6qqSj6fT2lpaaFt\n",
              "q1evVk5OjoYPH6533nnnlM9dUVGh5OTksMuur6K3NgCIJ47Ffvfu3XrppZc0e/bsVrc99thjqqio\n",
              "UE1NjT766CPNmjVLe/bsCdtn/fr1mjNnjlauXCmPxyNJuuWWW+T3+7Vz5049/PDDGj9+vA4cOHDS\n",
              "5y8vL1d9fX3Y5fLzor9OAIgHjr1mv3nzZvn9fvXr10+SVFdXp7KyMn344Ydas2aNXnjhBUmSz+dT\n",
              "UVGR3nvvPfXv31+StHHjRpWUlOjvf/+7Lr300tBj/vTof/DgwcrLy1N1dXXYkf+PvF5v2EtHkpTA\n",
              "Z48AWMqx/E2fPl21tbXy+/3y+/0qKirS4sWLNXPmTHXp0kUbNmyQJH311VfasmWLLrvsMknSpk2b\n",
              "9Mc//lGvvPKKcnJywh7z4MGDoT/v3btXO3bsUHZ2tlNLAIAOw/FP4/xcQkKCVq1apRkzZqi5uVlN\n",
              "TU2644479Nvf/laSNHXqVDU2NqqkpCR0n2XLlik7O1uzZs3Sv/71LyUmJiohIUFPPfWUMjIyYr0E\n",
              "AIg7/HgJALQD/HgJAKDNiD0AWIDYA4AFiD0AWIDYA4AFiD0AWCDmn7N307m/v1MZCxa4PQYAxBxH\n",
              "9gBgAWIPABYg9gBgAWIPABYg9gBgAWIPABYg9gBgAWIPABYg9gBgAWIPABYg9gBgAWIPABYg9gBg\n",
              "AWIPABYg9gBgAWIPABYg9gBgAWIPABYg9gBgAWIPABYg9gBgAWIPABbwGGOM20PEStffF6j7hBFu\n",
              "jwEArRwseczRx+fIHgAsQOwBwALEHgAsQOwBwALEHgAsQOwBwALEHgAsEHexP378uK677jplZGQo\n",
              "JydHV111lfbt2+f2WADQrsVd7CWprKxMH3/8sXbu3KmxY8eqtLTU7ZEAoF2Lu9h37txZ11xzjTwe\n",
              "jySpqKhIfr+/1X6NjY0KBAJhF7VY82VhAAgTd7H/uYULF2rs2LGttldUVCg5OTnscuKzWhcmBAD3\n",
              "xXXs586dq3379qmioqLVbeXl5aqvrw+7dOqb4sKUAOC+RLcHOFPz58/Xyy+/rHXr1umcc85pdbvX\n",
              "65XX6w3fmOCJ0XQA0L7EZewXLFigFStWaN26derevbvb4wBAuxd3sT948KDuvvtu+Xw+FRcXS/rh\n",
              "KH7Lli0uTwYA7Vfcxb5Pnz6y6BT8ABAVcf0GLQAgMsQeACxA7AHAAsQeACxA7AHAAsQeACwQdx+9\n",
              "bIuyAUO0oOQxt8cAgJjjyB4ALEDsAcACxB4ALEDsAcACxB4ALEDsAcACxB4ALEDsAcACxB4ALEDs\n",
              "AcAC1pwuobGxUW+++aZaWlqUkJDg9jiOa2lp0datW1VYWNjh18taOybWGpm0tDTdfvvtv7qfx1jy\n",
              "G3+BQEDJycmqr69Xt27d3B7HcTatl7V2TKw1ungZBwAsQOwBwALEHgAsYE3svV6vHnjgAXm9XrdH\n",
              "iQmb1staOybWGl3WvEELADaz5sgeAGxG7AHAAsQeACxA7AHAAh0u9nv37tWVV16pjIwMFRQU6KOP\n",
              "PjrpfpWVlerXr58uvvhiTZs2TU1NTTGetO0iWeuGDRtUWFio/v37a8CAAbr33nsVDAZdmLZtIv17\n",
              "lSRjjIYPH67u3bvHbsAoi3S9H374oYYNG6asrCxlZWXp5ZdfjvGkbRfJWoPBoO666y71799fl19+\n",
              "uYqLi7Vv3z4Xpj1zt912m9LT0+XxeLRjx45T7udYm0wHU1xcbKqqqowxxqxevdrk5+e32mf//v0m\n",
              "JSXF1NbWmmAwaEaPHm2efPLJGE/adpGs9YMPPjCffvqpMcaY//znP2bw4MGh+8STSNb6o8cff9yU\n",
              "lpaa5OTk2AzngEjW29DQYPr27Ws2b95sjDGmubnZHD58OJZjRkUka12zZo0pLCw0J06cMMYY8/DD\n",
              "D5tx48bFcsw227hxo/n8889NWlqa2b59+0n3cbJNHSr2hw4dMr/5zW9MU1OTMcaYYDBoLrzwQrN3\n",
              "796w/ebNm2duvvnm0PXXX3/dDB48OKaztlWka/25W2+91TzwwAMxmDB6Tmetu3fvNkOGDDH79u2L\n",
              "29hHut4lS5aYm266yY0RoybSta5du9bk5OSYQCBggsGgmTFjhrnzzjvdGLnNfin2TrapQ72M8/nn\n",
              "nyslJUWJiT+czNPj8Sg1NVU1NTVh+9XU1CgtLS10PT09vdU+7V2ka/2puro6vfjiixo1alSsxoyK\n",
              "SNfa1NSkadOm6dlnn43rsyRGut49e/bI6/Vq1KhRys3N1eTJk3XkyBE3Rj5jka519OjRGjZsmHr1\n",
              "6qWUlBStX79eDz30kBsjO8rJNnWo2OPUAoGARo8erXvvvVf5+fluj+OIOXPm6IYbblBWVpbbo8RE\n",
              "c3Oz1q1bp2effVbbt29X7969NX36dLfHckR1dbV2796tL774Ql9++aVGjBihW265xe2x4kqHiv1F\n",
              "F12k2tpaNTc3S/rhjbqamhqlpqaG7ZeamqoDBw6Ervv9/lb7tHeRrlWSjh07ppEjR2rs2LG66667\n",
              "Yj1qm0W61o0bN2rRokVKT0/X7373OwUCAaWnp8fd0e7p/HdcXFys3r17y+PxaNKkSfrnP//pxshn\n",
              "LNK1Ll26NPSm+1lnnaUpU6bonXfecWNkRznZpg4V+wsuuEADBw7U8uXLJUkvvfSS+vTpo0suuSRs\n",
              "vxtvvFGvvvqq6urqZIzRM888owkTJrgx8hmLdK3fffedRo4cqZEjR2r27NlujNpmka518+bNOnDg\n",
              "gPx+v/7xj3+oW7du8vv9Ov/8890Y+4xFut4//OEP2rZtmwKBgCTpjTfeUE5OTsznbYtI1+rz+bRh\n",
              "wwadOHFCkvTaa6/psssui/m8TnO0TVF55b8d+fe//22KiopMv379zKBBg8yuXbuMMcZMnTrVvPLK\n",
              "K6H9Fi9ebHw+n/H5fObPf/5z6F3+eBLJWh955BGTmJhocnJyQpdHHnnEzbHPSKR/rz/67LPP4vYN\n",
              "WmMiX+/SpUvNgAEDTHZ2thk5cqSpqalxa+QzFslajx8/bkpLS01mZqbJzs42V111VehTZvGirKzM\n",
              "9O7d2yQkJJgLLrjAXHzxxcaY2LWJE6EBgAU61Ms4AICTI/YAYAFiDwAWIPYAYAFiDwAWIPYAYAFi\n",
              "DwAWIPYAYAFiDwAWIPYAYIH/BwomutaFXlJPAAAAAElFTkSuQmCC\n",
              "\">\n",
              "        \n",
              "      </div>\n",
              "      <script></script>\n",
              "      <script type=\"text/javascript\">\n",
              "        (() => {\n",
              "          const chartElement = document.getElementById(\"chart-488e98b6-0bfd-4b48-b7c8-e6a94a888693\");\n",
              "          async function getCodeForChartHandler(event) {\n",
              "            const chartCodeResponse =  await google.colab.kernel.invokeFunction(\n",
              "                'getCodeForChart', [\"chart-488e98b6-0bfd-4b48-b7c8-e6a94a888693\"], {});\n",
              "            const responseJson = chartCodeResponse.data['application/json'];\n",
              "            await google.colab.notebook.addCell(responseJson.code, 'code');\n",
              "          }\n",
              "          chartElement.onclick = getCodeForChartHandler;\n",
              "        })();\n",
              "      </script>\n",
              "      <style>\n",
              "        .colab-quickchart-chart-with-code  {\n",
              "            display: block;\n",
              "            float: left;\n",
              "            border: 1px solid transparent;\n",
              "        }\n",
              "\n",
              "        .colab-quickchart-chart-with-code:hover {\n",
              "            cursor: pointer;\n",
              "            border: 1px solid #aaa;\n",
              "        }\n",
              "      </style>"
            ]
          },
          "metadata": {}
        },
        {
          "output_type": "display_data",
          "data": {
            "text/plain": [
              "import numpy as np\n",
              "from google.colab import autoviz\n",
              "\n",
              "def categorical_histogram(df, colname, figscale=1, mpl_palette_name='Dark2'):\n",
              "  from matplotlib import pyplot as plt\n",
              "  import seaborn as sns\n",
              "  df.groupby(colname).size().plot(kind='barh', color=sns.palettes.mpl_palette(mpl_palette_name), figsize=(8*figscale, 4.8*figscale))\n",
              "  plt.gca().spines[['top', 'right',]].set_visible(False)\n",
              "  return autoviz.MplChart.from_current_mpl_state()\n",
              "\n",
              "chart = categorical_histogram(_df_1, *['v2'], **{})\n",
              "chart"
            ],
            "text/html": [
              "      <div class=\"colab-quickchart-chart-with-code\" id=\"chart-48e6532f-bfdf-4359-9227-fd11a92360a7\">\n",
              "        <img src=\"data:image/png;base64,iVBORw0KGgoAAAANSUhEUgAAAcQAAADgCAYAAACdFRaLAAAAOXRFWHRTb2Z0d2FyZQBNYXRwbG90\n",
              "bGliIHZlcnNpb24zLjcuMSwgaHR0cHM6Ly9tYXRwbG90bGliLm9yZy/bCgiHAAAACXBIWXMAAA9h\n",
              "AAAPYQGoP6dpAAAW30lEQVR4nO3dfXBU5Rn38e8mwYggoYACBZIYIbzEQAgvAoIlUA1VXqpIVUDA\n",
              "BgErRWunYlqnDkpFaeujre2INLWlTBlAFClitaASkCpGiLx0FFBCqCZAERJFDCQ5zx8+5jECGiCb\n",
              "JfL9zJwZzr33nr0u4+wv98k5u6EgCAIkSTrLRUW6AEmSzgQGoiRJGIiSJAEGoiRJgIEoSRJgIEqS\n",
              "BBiIkiQBBqIkSYCBqC959NFHI12CJEWEgahqdu3aFekSJCkiDERJkjAQJUkCDERJkgADUZIkwECU\n",
              "JAkwECVJAgxESZIAA1GSJMBAlCQJMBAlSQIgJtIF6Mxy6K95FP/z15EuQ5KO0eo/Pwvr8V0hSpKE\n",
              "gShJEmAgSpIEGIiSJAEGoiRJgIEoSRJgIEqSBIQxEJ9++ml69OhBWloanTp1YtCgQVRWVobr5b7W\n",
              "X/7yF77//e8DUFBQwMCBA6v+3bRp06p5oVCIgwcP1vprvvLKK6SlpR133oQJE3jkkUe+9nhLly7l\n",
              "tddeq5XaJEnVheXG/KKiIiZNmsSbb75JQkICABs2bCAUCp3UccrLy4mJiTnh/tlm6dKlpKWl0adP\n",
              "n5N+bkVFBdHR0WGoSpK+GcKyQtyzZw/R0dE0a9asaiw9Pb0qEPPy8ujXrx9du3ald+/evPrqq8D/\n",
              "X61Nnz6d9PR0HnvsMQYOHMi0adPo27cvV155JVOnTuWBBx6oOu4777xDu3btKC8vr3F9X66tph56\n",
              "6CFSU1Pp1q0bffr04ZNPPqG4uJiMjAx69OhBSkoKU6dOPa2V8KpVq+jbty/du3cnJSWFnJwcAFas\n",
              "WMGyZcv49a9/TVpaGn/6058A+Nvf/sall15Keno6l19+OW+99Rbw2eo0IyODkSNHkpqayvr160+5\n",
              "Jkk6G4RludW1a1f69+9PQkIC3/nOd+jXrx+jR4+mTZs2HDlyhGuvvZa5c+eSmZnJ2rVrGTlyJDt2\n",
              "7ACgpKSElJQUHnroIeCzVdG2bdvIzc2lQYMGvPPOO2RmZjJ9+nSio6P54x//yKRJk05q5diuXTue\n",
              "fvrpk+rpr3/9K0uWLGHt2rXExcVx4MABYmNjadq0Kf/4xz9o3LgxFRUVjBgxgkWLFnHDDTec1PE/\n",
              "l56eztq1a4mOjubDDz+ke/fuZGZmctVVVzF8+HDS0tK44447AHj11VdZsGABubm5xMbGsmbNGkaP\n",
              "Hs3WrVsBeP3119m4cSMdO3Y87muVlZVRVlZWbawiiNxpbUmKpLAEYlRUFEuWLOHtt99m9erVPP/8\n",
              "8/zqV78iLy+Pw4cPExUVRWZmJgD9+/enZcuW5Ofn07ZtWxo0aMDYsWOrHW/s2LE0aNAAgI4dO9Kl\n",
              "SxeeffZZMjMzWbBgAZs3bw5HG9UsX76cKVOmEBcXB8C3vvUt4LNQmT59OmvXriUIAvbu3csll1xy\n",
              "yoG4f/9+srKy2LZtGzExMezfv58tW7bQtm3bY+Y+++yzvPXWW1x66aVVYx9++CGHDx8GoF+/ficM\n",
              "Q4BZs2YxY8aMamM9zo0/pbolqb4L61WmnTp1YvLkySxdupQ+ffqwbNmy48774t8WzzvvPKKiqpfV\n",
              "uHHjavu33347jz32GPPnz+eKK66gZcuWtV98DT388MPs3buX119/nU2bNjF69Gg+/fTTUz7elClT\n",
              "6N+/P5s3byY/P5/k5OQTHi8IAsaPH09+fn7VVlRURMOGDYFj/7t9WXZ2NiUlJdW2tIbtTrl2SarP\n",
              "whKI77//ftXfBQEOHDjAzp07ufjii+nYsSOVlZX861//AmDdunUUFxef8ArM47nyyispLi5m5syZ\n",
              "TJ06tWp8/fr1DB48uNb6+KLhw4fz+OOPU1JSAsDBgwepqKjgwIEDtGrVinPPPZfi4mIWL158Wq9z\n",
              "4MABEhISCIVC5ObmVv1NEKBJkyZVr/95TfPnz6ewsBCAyspK8vLyavxasbGxNGnSpNoWHfJOHEln\n",
              "p7CcMi0vL+e+++5j586dnHfeeZSXlzN+/HhGjBgBfHZLxrRp0/jpT3/Kueeey1NPPUXjxo353//+\n",
              "V6Pjh0IhsrKy+Pvf/07fvn2rxgsKCqpWR7Xtpptu4oMPPqBfv37ExMTQqFEjVq5cye233851111H\n",
              "SkoK3/72t/nud797Wq/z4IMP8qMf/Yj777+ftLS0aqdDb7rpJiZMmMDSpUu57bbbmDhxIrNnz+aa\n",
              "a66hvLycI0eOcPXVV9OzZ8/TbVeSzjqhIAiCSBdxKoYOHcr111/PTTfdVDV22223ceONN9K/f/8I\n",
              "Vla/TW5+OTNaDot0GZJ0DL8P8Uvy8vJo3749UVFRjB49utpjf/jDHwxDSdIpqXd3uffs2bPqFg1J\n",
              "kmpLvVshSpIUDgaiJEkYiJIkAQaiJElAPbyoRuHVaHxPWj0c3kubJelM5ApRkiQMREmSAANRkiTA\n",
              "QJQkCTAQJUkCDERJkgADUZIkwECUJAkwECVJAgxESZIAA1GSJMBAlCQJMBAlSQIMREmSAANRkiTA\n",
              "QJQkCTAQJUkCDERJkgADUZIkwECUJAkwECVJAgxESZIACAVBEES6CJ05eqZ/n0HfmRjpMiTpGLP/\n",
              "z9CwHt8VoiRJGIiSJAEGoiRJgIEoSRJgIEqSBBiIkiQBBqIkSQDERLqAs11iYiKxsbE0bNgQgOzs\n",
              "bK6//voTju/fv5/BgwdXPf+TTz7hvffeY+/evTRr1oybb76ZV199lYYNG9K4cWMeeeQRevXqFZHe\n",
              "JKk+MRDPAAsXLiQtLa1G482bNyc/P79q/ze/+Q2rV6+mWbNmAFxzzTXMnTuXmJgYli9fzqhRoygo\n",
              "KAhf8ZL0DeEp03ouJyeHrKysqv3hw4cTE/PZ7zl9+vTh/fffp7y8PFLlSVK9YSCeAcaNG0dqaipZ\n",
              "WVns27fva8c/t27dOg4cOMDQocf/OKNHH32Uq666qiogv6ysrIzS0tJqW1BZWTtNSVI9YyBGWG5u\n",
              "Lps2bWLDhg20aNGC8ePHf+X4F+Xk5DBu3LjjBt78+fNZtGgRTzzxxAlfe9asWcTFxVXbivZsq73m\n",
              "JKke8cO9zyBFRUUkJyfz0Ucffe34xx9/TOvWrXnjjTfo1KlTtfkLFy7knnvuYdWqVcTHx5/w9crK\n",
              "yigrK6s2lnH5WAZnTKqFbiSpdoX7w729qCaCDh06xNGjR2natCkACxYsoHv37icc/6KFCxfSrVu3\n",
              "Y8Jw0aJF3HPPPaxcufIrwxAgNjaW2NjYamOhKE8aSDo7GYgRtGfPHkaOHElFRQVBEJCUlMS8efNO\n",
              "OP5FOTk53HLLLcccc8yYMbRq1YoRI0ZUja1atYrmzZuHvR9Jqs8MxAhKSkpi48aNx33sROOfW7du\n",
              "3XHHjx49etp1SdLZyPNjkiRhIEqSBBiIkiQBBqIkSYCBKEkSYCBKkgR424W+5PKBScx+OLyfBiFJ\n",
              "ZyJXiJIkYSBKkgQYiJIkAQaiJEmAgShJEmAgSpIEGIiSJAEnEYjz5s3jvvvuY8OGDdXGZ82aVetF\n",
              "SZJU12oUiHfffTdz585l3759XH311Tz66KNVjy1evDhsxUmSVFdq9Ek1zz33HG+++SbnnHMOv/jF\n",
              "Lxg+fDiffPIJ2dnZBEEQ7holSQq7GgViEAScc845ALRq1YqVK1fyve99j4qKCkKhUFgLlCSpLtTo\n",
              "lGmjRo0oKCio2m/SpAkvvPACzz//PFu3bg1XbZIk1ZkaBeKDDz5ISUkJ+/fvrxpr3LgxL774Ivfe\n",
              "e2/YipMkqa7UKBAzMjLo1q0bycnJjBo1ihUrVlBZWUmjRo34+c9/Hu4aJUkKu5O6D7GwsJCrr76a\n",
              "2bNnk5CQQHZ2Ntu3bw9XbZIk1ZmTCsRGjRoxYcIEXnnlFXJzc9m/fz+dOnUKV22SJNWZk/6C4KNH\n",
              "j7Js2TL+/Oc/88Ybb3DrrbeGoy5JkurUSQXij3/8YxYvXkz37t25+eabeeaZZ6pux5AkqT47qUBs\n",
              "3bo1eXl5tG3bNlz1SJIUEScViF5RKkn6pvLbLiRJwkCUJAmAUOCnc+sLbk4Jkd3L35MknXmS/1IR\n",
              "1uP7zidJEgaiJEmAgShJEmAgSpIEGIiSJAEGoiRJgIEoSRJgIEqSBBiIEZeYmEjHjh1JS0sjLS2N\n",
              "hQsXAjBt2jQSExMJhULk5+dXe05ZWRlTp06lQ4cOpKamMnbs2KrH/vnPf9KzZ0+6du1Knz59eOut\n",
              "t+qyHUmqt076+xBV+xYuXEhaWlq1seuuu4677rqL/v37HzP/7rvvJhQKsW3bNkKhEMXFxQAcOHCA\n",
              "MWPGkJubS0pKCmvWrGHMmDFs2bKlLtqQpHrNQDxDXX755ccdP3ToEDk5Ofz3v/8lFAoB0KpVKwDe\n",
              "ffddmjdvTkpKCgADBgygsLCQDRs2kJ6efsyxysrKKCsrqzZWUVmbXUhS/eEp0zPAuHHjSE1NJSsr\n",
              "i3379n3l3HfffZdmzZrxwAMP0LNnTwYMGMCqVasA6NChA/v372fdunUALFu2jI8++oiCgoLjHmvW\n",
              "rFnExcVV2zb9r1Zbk6R6w0CMsNzcXDZt2sSGDRto0aIF48eP/8r55eXl7Nq1iy5dupCXl8fvfvc7\n",
              "rr/+evbs2UNcXBxPPfUU2dnZ9OjRgxdffJEuXboQE3P8EwHZ2dmUlJRU27q2CEeXknTm85RphMXH\n",
              "xwPQoEED7rjjDpKTk792flRUFGPGjAGge/fuXHTRRWzevJmWLVuSkZFBRkYG8Nkp0VatWtGlS5fj\n",
              "His2NpbY2NhqY9H+iiTpLOXbXwQdOnSIgwcPVu0vWLCA7t27f+VzWrRoweDBg3nhhRcA2LlzJzt3\n",
              "7qRz584AFBUVVc29//77GTRoEO3bt6/94iXpG8YVYgTt2bOHkSNHUlFRQRAEJCUlMW/ePAAmT57M\n",
              "c889R3FxMZmZmZx//vns2LEDgMcff5ysrCymT59OVFQUc+bMoU2bNgD88pe/ZM2aNZSXl9O3b19y\n",
              "cnIi1p8k1Sd+QbCq8QuCJZ2p/IJgSZLqgIEoSRIGoiRJgIEoSRJgIEqSBBiIkiQB3oeoL/lW5k9I\n",
              "fvjhSJchSXXOFaIkSRiIkiQBBqIkSYCBKEkSYCBKkgQYiJIkAQaiJEmAgShJEmAgSpIEGIiSJAEG\n",
              "oiRJgIEoSRJgIEqSBBiIkiQBBqIkSYCBKEkSYCBKkgQYiJIkAQaiJEmAgShJEmAgSpIEGIiSJAEQ\n",
              "CoIgiHQROnM0zuxF0xsGR7oMSTrGf29+MKzHd4UoSRIGoiRJgIEoSRJgIEqSBBiIkiQBBqIkSYCB\n",
              "KEkSYCDWW1deeSVdu3YlLS2NAQMGsHHjRgC2b99Ov379SE5OplevXmzdujXClUpS/WAg1lOLFi1i\n",
              "06ZN5Ofnc+eddzJhwgQAJk+ezKRJk9i2bRvTp0+vGpckfTUDsZ5q2rRp1b9LSkoIhULs3buXvLw8\n",
              "xo4dC8DIkSPZvXs3O3bsOO4xysrKKC0trbZR4QcXSTo7xUS6AJ26cePG8fLLLwOwYsUKdu/eTevW\n",
              "rYmJ+ezHGgqFiI+Pp7CwkPbt2x/z/FmzZjFjxoxqYw2Svh3+wiXpDOQKsR6bN28eu3fvZubMmUyf\n",
              "Pv2kn5+dnU1JSUm17ZyLWoehUkk687lC/AYYP348U6ZMoW3bthQVFVFeXk5MTAxBEFBYWEh8fPxx\n",
              "nxcbG0tsbGz1wehQHVQsSWceV4j10MGDB/nggw+q9pcuXUrz5s258MILSU9PZ/78+QAsWbKEtm3b\n",
              "Hvd0qSSpOleI9VBJSQmjRo3i8OHDREVFccEFF7B8+XJCoRBz5sxhwoQJPPDAAzRp0oQnn3wy0uVK\n",
              "Ur1gINZDCQkJrF+//riPdezYkX//+991XJEk1X+eMpUkCQNRkiTAQJQkCTAQJUkCDERJkgADUZIk\n",
              "wNsu9CWTUgbw8M0PRroMSapzrhAlScJAlCQJMBAlSQIMREmSAANRkiTAQJQkCTAQJUkCDERJkgAD\n",
              "UZIkwECUJAnwo9v0BWVlZTz//PNUVFQQHR0d6XLCqqKigvXr19O7d297/YY5m/q115pJSEjg9ttv\n",
              "/9p5oSAIglMtUN8spaWlxMXFUVJSQpMmTSJdTljZ6zfX2dSvvdYuT5lKkoSBKEkSYCBKkgQYiPqC\n",
              "2NhY7r33XmJjYyNdStjZ6zfX2dSvvdYuL6qRJAlXiJIkAQaiJEmAgShJEmAgSpIEGIhnpe3bt9Ov\n",
              "Xz+Sk5Pp1asXW7duPe68nJwcOnTowMUXX8wtt9zC0aNH67jS01eTXl966SV69+5Nly5dSElJ4a67\n",
              "7qKysjIC1Z6emv5cAYIgYNCgQTRt2rTuCqxFNe118+bNDBw4kM6dO9O5c2eefvrpOq709NWk18rK\n",
              "Su688066dOlC165dycjIYMeOHRGo9vRMmzaNxMREQqEQ+fn5J5wXtvemQGedjIyM4MknnwyCIAgW\n",
              "L14c9OzZ85g57733XtC6deugqKgoqKysDIYNGxY89thjdVzp6atJrxs2bAjefffdIAiC4PDhw8Fl\n",
              "l11W9Zz6pCa9fu63v/1tMHHixCAuLq5uiqtlNen10KFDwUUXXRSsWbMmCIIgKC8vD/bu3VuXZdaK\n",
              "mvT6zDPPBL179w6OHDkSBEEQ3H///cGoUaPqssxasXr16mD37t1BQkJCsHHjxuPOCed7k4F4ltmz\n",
              "Z09w/vnnB0ePHg2CIAgqKyuDli1bBtu3b682b/bs2cHkyZOr9p977rngsssuq9NaT1dNe/2y2267\n",
              "Lbj33nvroMLaczK9btmyJRgwYECwY8eOehmINe117ty5wY033hiJEmtNTXtdunRp0K1bt6C0tDSo\n",
              "rKwMfvaznwU/+clPIlFyrfiqQAzne5OnTM8yu3fvpnXr1sTEfPZFJ6FQiPj4eAoLC6vNKywsJCEh\n",
              "oWo/MTHxmDlnupr2+kXFxcU89dRTDB06tK7KrBU17fXo0aPccsstzJkzp95+O0JNe/3Pf/5DbGws\n",
              "Q4cOJS0tjXHjxrFv375IlHzKatrrsGHDGDhwIK1ataJ169asWrWK++67LxIlh10435sMROn/KS0t\n",
              "ZdiwYdx111307Nkz0uWExYwZM7j22mvp3LlzpEsJu/LyclauXMmcOXPYuHEjbdq04dZbb410WWGR\n",
              "l5fHli1beP/99/nggw8YPHgwU6ZMiXRZ9Y6BeJZp164dRUVFlJeXA59dXFFYWEh8fHy1efHx8eza\n",
              "tatqv6Cg4Jg5Z7qa9grw0UcfMWTIEEaMGMGdd95Z16Wetpr2unr1an7/+9+TmJhI//79KS0tJTEx\n",
              "sV6tnE7m/+GMjAzatGlDKBRi7NixvPbaa5Eo+ZTVtNd58+ZVXSQVFRXF+PHjefnllyNRctiF873J\n",
              "QDzLXHjhhaSnpzN//nwAlixZQtu2bWnfvn21eSNHjmTZsmUUFxcTBAGPP/44N9xwQyRKPmU17fXj\n",
              "jz9myJAhDBkyhHvuuScSpZ62mva6Zs0adu3aRUFBAWvXrqVJkyYUFBRwwQUXRKLsU1LTXn/wgx/w\n",
              "xhtvUFpaCsCKFSvo1q1bndd7Omraa1JSEi+99BJHjhwBYPny5VxyySV1Xm9dCOt7U638JVL1yttv\n",
              "vx306dMn6NChQ9CjR49g06ZNQRAEQVZWVvDss89WzXviiSeCpKSkICkpKfjhD39YdQVbfVKTXmfO\n",
              "nBnExMQE3bp1q9pmzpwZybJPSU1/rp/buXNnvbyoJghq3uu8efOClJSUIDU1NRgyZEhQWFgYqZJP\n",
              "WU16/fTTT4OJEycGnTp1ClJTU4Mrrrii6srp+mTSpElBmzZtgujo6ODCCy8MLr744iAI6u69yQ/3\n",
              "liQJT5lKkgQYiJIkAQaiJEmAgShJEmAgSpIEGIiSJAEGoiRJgIEoSRJgIEqSBBiIkiQB8H8Bfo3d\n",
              "GXGcxB4AAAAASUVORK5CYII=\n",
              "\">\n",
              "        \n",
              "      </div>\n",
              "      <script></script>\n",
              "      <script type=\"text/javascript\">\n",
              "        (() => {\n",
              "          const chartElement = document.getElementById(\"chart-48e6532f-bfdf-4359-9227-fd11a92360a7\");\n",
              "          async function getCodeForChartHandler(event) {\n",
              "            const chartCodeResponse =  await google.colab.kernel.invokeFunction(\n",
              "                'getCodeForChart', [\"chart-48e6532f-bfdf-4359-9227-fd11a92360a7\"], {});\n",
              "            const responseJson = chartCodeResponse.data['application/json'];\n",
              "            await google.colab.notebook.addCell(responseJson.code, 'code');\n",
              "          }\n",
              "          chartElement.onclick = getCodeForChartHandler;\n",
              "        })();\n",
              "      </script>\n",
              "      <style>\n",
              "        .colab-quickchart-chart-with-code  {\n",
              "            display: block;\n",
              "            float: left;\n",
              "            border: 1px solid transparent;\n",
              "        }\n",
              "\n",
              "        .colab-quickchart-chart-with-code:hover {\n",
              "            cursor: pointer;\n",
              "            border: 1px solid #aaa;\n",
              "        }\n",
              "      </style>"
            ]
          },
          "metadata": {}
        },
        {
          "output_type": "display_data",
          "data": {
            "text/plain": [
              "<google.colab._quickchart_helpers.SectionTitle at 0x7c6ccba492a0>"
            ],
            "text/html": [
              "<h4 class=\"colab-quickchart-section-title\">2-d categorical distributions</h4>\n",
              "<style>\n",
              "  .colab-quickchart-section-title {\n",
              "      clear: both;\n",
              "  }\n",
              "</style>"
            ]
          },
          "metadata": {}
        },
        {
          "output_type": "display_data",
          "data": {
            "text/plain": [
              "import numpy as np\n",
              "from google.colab import autoviz\n",
              "\n",
              "def heatmap(df, x_colname, y_colname, figscale=1, mpl_palette_name='viridis'):\n",
              "  from matplotlib import pyplot as plt\n",
              "  import seaborn as sns\n",
              "  import pandas as pd\n",
              "  plt.subplots(figsize=(8 * figscale, 8 * figscale))\n",
              "  df_2dhist = pd.DataFrame({\n",
              "      x_label: grp[y_colname].value_counts()\n",
              "      for x_label, grp in df.groupby(x_colname)\n",
              "  })\n",
              "  sns.heatmap(df_2dhist, cmap=mpl_palette_name)\n",
              "  plt.xlabel(x_colname)\n",
              "  plt.ylabel(y_colname)\n",
              "  return autoviz.MplChart.from_current_mpl_state()\n",
              "\n",
              "chart = heatmap(_df_2, *['v1', 'v2'], **{})\n",
              "chart"
            ],
            "text/html": [
              "      <div class=\"colab-quickchart-chart-with-code\" id=\"chart-a68f6220-2d37-4472-afa3-86eeb92cb807\">\n",
              "        <img src=\"data:image/png;base64,iVBORw0KGgoAAAANSUhEUgAAAXMAAAFrCAYAAAAjP2lkAAAAOXRFWHRTb2Z0d2FyZQBNYXRwbG90\n",
              "bGliIHZlcnNpb24zLjcuMSwgaHR0cHM6Ly9tYXRwbG90bGliLm9yZy/bCgiHAAAACXBIWXMAAA9h\n",
              "AAAPYQGoP6dpAAAyZUlEQVR4nO3de1xUdf4/8NcBZTQU8gKhCwMiICnERSlXFDTZ0KzRwtJddUVR\n",
              "cbvILusl1lyhLNz62sZWftWV1CzxglZs5bfSvvWDbDPFMde8oSKgKHgbAmQE5vP9Y37OOovKzDAH\n",
              "PDOv5+NxHg/n3D6fmejFh/f5nDOSEEKAiIgUzaWjO0BERG3HMCcicgAMcyIiB8AwJyJyAAxzIiIH\n",
              "wDAnInIADHMiIgfAMCcicgAMcyIiB8AwJyKywLx58xAQEABJkqDVam+5T2lpKUaOHAlPT09ERka2\n",
              "2J6bm4vg4GD0798fs2fPRmNjo0XbLMEwJyKywMSJE1FUVAR/f//b7uPh4YFly5Zh06ZNLbadPn0a\n",
              "S5YsQWFhIUpKSnDhwgWsWbOm1W2WYpgTEVkgLi4Ovr6+d9ynZ8+eGD58ONzd3Vtsy8/Ph0ajgY+P\n",
              "DyRJwty5c5GXl9fqNkt1smpvIiIHotfrodfrzdapVCqoVCq7t1VWVmY2qg8ICEBZWVmr2yzFML+L\n",
              "Bea80dFd6BCn0tI7ugukIIbzITYfm73qN8jKyjJbt3TpUmRmZraxV+2PYU5EimaAweZjMzIykJ5u\n",
              "PniQY1QOAGq1GidPnjS9Li0thVqtbnWbpVgzJyJFaxYGmxeVSgUPDw+zRa4wT0pKQkFBAc6fPw8h\n",
              "BFatWoXJkye3us1SDHMiUjQDhM2LNVJTU+Hr64uKigokJiYiKCgIADBr1iwUFBQAAOrr6+Hr64un\n",
              "nnoKP/30E3x9fZGRkQEACAwMRFZWFmJjYxEUFAQvLy+kpqa2us1SEr9p6O7FmjlR665V9rP52K59\n",
              "TtuxJx2LNXMiUrS21MwdCcOciBStmcUFAAxzIlI4a2vfjophTkSK1swwB8DZLEREDoEjcyJSNJZZ\n",
              "jBjmRKRovABqxDAnIkXjxEQjhjkRKRovgBoxzIlI0ZqZ5QA4m4WIyCFwZE5EisaauRHDnIgUrRlS\n",
              "R3fhrsAwJyJFM7BmDoBhTkQKx5G5EcOciBSNYW7E2SxERA6AI3MiUjSD4MgcYJgTkcKxzGLEMCci\n",
              "RWtmtRgAw5yIFI5lFiOGOREpGsssRvz7hIjIAXBkTkSK1iw4JgUY5kSkcAYWGAAwzIlI4VgzN2KY\n",
              "E5GiscxixDAnIkUzcGQOgLNZiIgcgqwj81OnTqGsrAwAoFarERgYKGdzROSEeAeokSyfwpEjR/Dg\n",
              "gw8iNjYWixYtwqJFixAbG4sHH3wQhw8flqNJInJSzcLF5sUa8+bNQ0BAACRJglarve1+ubm5CA4O\n",
              "Rv/+/TF79mw0NjYCANatW4fIyEjT0rt3bzz55JMAgNLSUri6upptP3nypFX9k2VknpycjEWLFiEp\n",
              "KclsfX5+PmbMmIG9e/fK0SwROaH2mpo4ceJELFy4EMOHD7/tPqdPn8aSJUtQXFyM++67D+PHj8ea\n",
              "NWvw7LPPYsaMGZgxY4Zp37CwMEyZMsX0unv37nf8JdEaWT6Fq1evtghywPhh6HS6Ox6r1+tRU1Nj\n",
              "tuj1ejm6SUQOoFlINi/W5E1cXBx8fX3v2Jf8/HxoNBr4+PhAkiTMnTsXeXl5Lfb7/vvvUVVVBY1G\n",
              "Y5fPAJApzHv37o2NGzfCYPj392YbDAZs2LABvXr1uuOx2dnZ8PT0NFuys7Pl6CYROYBmuNi82Dtv\n",
              "ysrK4O/vb3odEBBgum54s9zcXEybNg2dO3c2raurq0NMTAyio6Px0ksvobm52aq2ZSmzbNiwAamp\n",
              "qXjuuefQt29fCCFQWVmJwYMHY/369Xc8NiMjA+np6WbrVCqVHN0kIifXEXlTV1eHzZs345///Kdp\n",
              "XZ8+fXD27Fl4e3vj8uXLmDRpElasWIGFCxdafF5ZwjwoKAi7d+9GdXU1ysvLAQB+fn7w8vJq9ViV\n",
              "SsXwJiKLGdpw05C980atVptduCwtLYVarTbbZ9u2bRg0aBAGDhxo1g9vb28AQM+ePTFz5kxs2rTJ\n",
              "qjCXpcyi1WoRGRmJxMREqFQqLFmyBP7+/lCr1fjxxx/laJKInFRbyiz2lpSUhIKCApw/fx5CCKxa\n",
              "tQqTJ0822yc3NxcpKSlm66qqqkyzXvR6PXbs2IGoqCir2pYlzNPS0pCZmYl58+bh0UcfxeTJk1Ff\n",
              "X4+//e1vmD9/vhxNEpGTassFUGukpqbC19cXFRUVSExMRFBQEABg1qxZKCgoAAAEBgYiKysLsbGx\n",
              "CAoKgpeXF1JTU03nOHbsGLRaLSZNmmR27qKiIkRFRSEiIgLR0dHw8fHB4sWLreqfJIQQVh1hgaio\n",
              "KBw4cACA8c+Omy8AREZGtmn6jTMJzHmjo7vQIU6lpbe+E9H/t+HEMJuPnR68x4496Viy1Mxv/v0w\n",
              "atSo224jImorPmjLSJZP4b777kNNTQ0A48yWGyorK9GlSxc5miQicmqyjMw///zzW66/5557sG3b\n",
              "NjmaJCInxacmGrXrI3BvTMonIrIXllmM+DxzIlI0PjXRiGFORIpmsHKKoaNimBORonFkbsRPgYjI\n",
              "AXBkTkSK1pZnszgShjkRKVozpyYCYJgTkcJxZG7EMCciRePI3IhhTkSKxpG5ET8FIiIHwJE5ESka\n",
              "b+c3YpgTkaLxQVtGDHMiUjSOzI0Y5kSkaHw2ixHDnIgUjc9mMeKnQETkADgyJyJFY5nFiGFORIpm\n",
              "YIEBAMOciBSumSNzAAxzIlI4llmMGOZEpGh8NosRPwUiIgfAkTkRKRofgWvEMCciRWPN3IhhTkSK\n",
              "xpq5ET8FIlI0AySbF2vMmzcPAQEBkCQJWq32tvvl5uYiODgY/fv3x+zZs9HY2AgA+Prrr9G1a1dE\n",
              "RkaalmvXrrV6nKUY5kSkaM1CsnmxxsSJE1FUVAR/f//b7nP69GksWbIEhYWFKCkpwYULF7BmzRrT\n",
              "9gEDBkCr1ZqWrl27WnScJRjmREQWiIuLg6+v7x33yc/Ph0ajgY+PDyRJwty5c5GXl9fquW097mas\n",
              "mRORorWlZq7X66HX683WqVQqqFQqm85XVlZmNnIPCAhAWVmZ6fXJkycRHR0NV1dXzJgxA88884xF\n",
              "x1lCEWEemPNGR3ehQ5xKS+/oLhDd9doymyU7OxtZWVlm65YuXYrMzMw29qql6OhoVFRUwNPTExUV\n",
              "FXj00UfRu3dvPP3003Y5P8ssRKRobbkAmpGRAZ1OZ7ZkZGTY3Be1Wo0zZ86YXpeWlkKtVgMAPDw8\n",
              "4OnpCQDw9fXFr3/9axQWFrZ6nKUY5kSkaAYh2byoVCp4eHiYLbaWWAAgKSkJBQUFOH/+PIQQWLVq\n",
              "FSZPngwAqKyshMFgAAD8/PPP+OSTTxAVFdXqcZZimBORohmEi82LNVJTU+Hr64uKigokJiYiKCgI\n",
              "ADBr1iwUFBQAAAIDA5GVlYXY2FgEBQXBy8sLqampAIDt27cjPDwcERERGDp0KH71q19hxowZrR5n\n",
              "KUkIIaw6ogOwZk5EtzPpu7k2H7vll6vs2JOOpYgLoEREt8Pb+Y0Y5kSkaNbeyemoGOZEpGgcmRsx\n",
              "zIlI0RjmRpzNQkTkADgyJyJF48jciGFORIrGMDdimBORonE2ixHDnIgUjSNzI4Y5ESkaw9yIs1mI\n",
              "iBwAR+ZEpGgcmRsxzIlI0RjmRgxzIlI0wTAHwDAnIoXj1EQjhjkRKRrLLEaczUJE5AA4MiciRWPN\n",
              "3IhhTkSKxjKLEcOciBSNI3MjhjkRKRpH5kYMcyJSNCE6ugd3B1nDXKvVorS0FJ06dcLAgQMRGBgo\n",
              "Z3NERE5LljD/8ccfMWXKFJSVlaG2thYDBw7E2bNnMXr0aOTm5sLDw0OOZonICfGmISNZ5pnPnTsX\n",
              "//3f/w2dTocPP/wQo0aNwvnz5zFgwAA8//zzcjRJRE5KCMnmxZHIEub19fUYPnw4AECj0eC7776D\n",
              "m5sbli1bhu+++06OJonISRmEZPPiSGQJ886dO+Po0aMAgH/+859wd3c3bXN1dZWjSSJyUkLYvjgS\n",
              "WWrmL7/8MoYPH47evXvj0qVLyM/PBwCcP38eI0aMkKNJInJSjlYusZUsYT5mzBiUlJTg5MmTCA4O\n",
              "Nl3w9PHxwZo1a+RokojIqck2NfHee+/F4MGDAQDV1dU4dOgQ7r//fvTp00euJonICXFkbiRLzfy3\n",
              "v/0tqqqqAABfffUVBg4ciBdeeAERERH46KOP5GiSiJxUe10AnTdvHgICAiBJErRa7W33y83NRXBw\n",
              "MPr374/Zs2ejsbERgDELH3zwQQwcOBCDBg3CwoULYTAYAAClpaVwdXVFZGSkaTl58qRV/ZMlzA8e\n",
              "PAhvb28AQFZWFr788kvs3bsX33//PbKysuRokoicVHtdAJ04cSKKiorg7+9/231Onz6NJUuWoLCw\n",
              "ECUlJbhw4YKptNyjRw9s3rwZP/30E/bv3489e/bgvffeMx3bvXt3aLVa09K/f3+r+idLmeXatWum\n",
              "f9fX1yMyMhIA0K9fPzQ3N9/xWL1eD71eb7ZONDVB6sQnDxBRS20ps9wqb1QqFVQqVYt94+LiWj1f\n",
              "fn4+NBoNfHx8ABjvuXn11Vfx7LPPIioqyrRfly5dEBkZidLSUpv7/p9kGZknJiYiLS0NtbW1SEhI\n",
              "wAcffAAhBHbu3InevXvf8djs7Gx4enqaLVe/3C1HN4nIAbTlpqFb5U12drbNfSkrKzMbuQcEBKCs\n",
              "rKzFfufPn0d+fj4ee+wx07q6ujrExMQgOjoaL730UqsD3/8kS5ivWLECLi4u+MUvfoHNmzdj2rRp\n",
              "cHNzQ05ODnJzc+94bEZGBnQ6ndly769Gy9FNInJyt8qbjIwMWdusqanB448/joULF2LIkCEAgD59\n",
              "+uDs2bP44YcfsGvXLhQWFmLFihVWnVeW2oWbmxv++te/4pVXXsHJkyfR1NQEtVqNXr16tXrsrf7E\n",
              "YYmFiG6nLff+3K6kYiu1Wm124bK0tBRqtdr0+ueff8aYMWMwfvx4pKenm/XjxnXGnj17YubMmdi0\n",
              "aRMWLlxocduyfgfoPffcg/DwcERFRVkU5ERE1rqbns2SlJSEgoICnD9/HkIIrFq1CpMnTwYA1NbW\n",
              "YsyYMRgzZgxefPFFs+OqqqpMs170ej127NhhVmO3RLt/oXNISEh7N0lEjky0YbFCamoqfH19UVFR\n",
              "gcTERAQFBQEAZs2ahYKCAgBAYGAgsrKyEBsbi6CgIHh5eSE1NRUAkJOTg71792LHjh2m6YevvPIK\n",
              "AKCoqAhRUVGIiIhAdHQ0fHx8sHjxYqv6Jwlh/ycU/Pjjj7fdlpiYiMrKSqvOF5jzRlu7pEin0tJb\n",
              "34nIyQVvW2bzsSeeerH1nRRClmJ0ZGQkAgICcKvfE5cuXZKjSSJyUo72wCxbyRLm/v7+KCoqQt++\n",
              "fVts8/Pzk6NJIiKnJkvNXKPR4NSpU7fcNm7cODmaJCIndTddAO1IsozMc3Jybrtt1apVcjRJRM7K\n",
              "wULZVrKMzLdt22b698WLFzFu3Dh4enpi5MiRt7wbiojIVvxyCiNZwvzm22EzMjIQHh6OY8eOQaPR\n",
              "IC0tTY4michZtdPUxLudLGWWm2ex7N27F8XFxXB1dUV6ejo2bNggR5NE5KQcrfZtK1nCvKGhAYcO\n",
              "HYIQApIkmX3vpyTxgycisjfZHoE7fvx40wi9oqICvr6+0Ol0cHFp95tOiciROVi5xFayhPntntHb\n",
              "uXNnbN++XY4michJscxi1K6PI7znnnvQr1+/9mySiBwdR+YA2jnMiYjsjyNzgGFORErHkTmADngE\n",
              "LhER2R9H5kSkbByZA2CYE5HScTYLAIY5ESmcoz1jxVYMcyJSNoY5AIY5ESkdyywAOJuFiMghcGRO\n",
              "RIomscwCgGFORErHMAfAMCcipWPNHADDnIiUjiNzAAxzIlI6hjkAzmYhInIIHJkTkbJxZA6AYU5E\n",
              "SscLoAAY5kSkcJxnbmRxzfy9997DSy+9hOLiYrP12dnZdu8UEZHFRBsWK8ybNw8BAQGQJAlarfa2\n",
              "++Xm5iI4OBj9+/fH7Nmz0djY2OZtlrAozF944QX8/e9/R3V1NcaNG4ecnBzTtm3btlnVIBGREk2c\n",
              "OBFFRUXw9/e/7T6nT5/GkiVLUFhYiJKSEly4cAFr1qxp0zZLWRTmn376KXbv3o233noLBw4cwAcf\n",
              "fGAakQs+f5KInEBcXBx8fX3vuE9+fj40Gg18fHwgSRLmzp2LvLy8Nm2zlEU1cyEE3NzcAAA+Pj7Y\n",
              "tWsXxo4di+bmZkgSLz4QUcdpS81cr9dDr9ebrVOpVFCpVDadr6yszGzkHhAQgLKysjZts5RFYe7u\n",
              "7o7S0lIEBAQAADw8PPD5558jMTERhw8ftqpBW5xKS5e9Dbp7BOa80dFd6BD8ObdRG2azZGdnIysr\n",
              "y2zd0qVLkZmZ2cZOtT+Lwnz58uXQ6XS4dOkSevXqBQDo1q0bvvjiC7P6ORFRu2vDyDwjIwPp6ea/\n",
              "RG0dlQOAWq3GyZMnTa9LS0uhVqvbtM1SFtXMR40ahYiICISEhOCpp57CZ599BoPBAHd3d/zpT3+y\n",
              "qkEiIrtqw2wWlUoFDw8Ps6UtYZ6UlISCggKcP38eQgisWrUKkydPbtM2S1l1O39ZWRnGjRuH1157\n",
              "Df7+/sjIyMCJEyesapCIyJ4kYftijdTUVPj6+qKiogKJiYkICgoCAMyaNQsFBQUAgMDAQGRlZSE2\n",
              "NhZBQUHw8vJCampqm7ZZ/jnYOB3l9OnTyM7ORm5uLpqbm205BdEtsWZO1uj/hu0/LyfTHeczt/oO\n",
              "0MbGRhQUFODdd9/FDz/8gN/97ndy9IuIyDKcHQ3AyjB//vnnsW3bNkRFRWHGjBn48MMPTVMWiYg6\n",
              "BMMcgJVh3qdPH+zbt6/VifNERO2Fz2YxsirMOXOFiO46fGoiAH45BRGRQ+AjcIlI2VhmAcAwJyKF\n",
              "Y83ciGFORMrGMAfAMCcihePI3IhhTkTKxjAHwNksREQOgSNzIlI2jswBMMyJSOFYMzdimYWIyAFw\n",
              "ZE5EysaROQCGOREpHMssRiyzEBE5AI7MiUjZODIHwDAnIqVjmANgmBORwrFmbsQwJyJlY5gDYJgT\n",
              "kcJxZG4k62wWg8HQYt2VK1fkbJKIyCnJEub79u1Dv3790LVrVzzxxBOorq42bRs9erQcTRKRsxJt\n",
              "WByILGH+hz/8AW+//TbOnTuHsLAwxMXF4ezZswAAIRzsEySijsUwByBTzby2thbjxo0DALz88ssY\n",
              "MGAAHn74YezatQuSxG/SJiL7Yc3cSJYwr6+vh8FggIuLceA/depUdO7cGaNHj4Zer5ejSSJyVgxz\n",
              "ADKVWWJjY/HZZ5+ZrZs0aRKWLVuGyspKOZokImfFMgsAmcL83XffxWOPPdZi/dNPP43r16/L0SQR\n",
              "kVOTJcyvXr0qx2mJiFqQhO2LI5ElzL29vTF+/Hj84x//uOVccyIiu2mnMsuJEycwbNgwhISEICYm\n",
              "BocPH26xj8FgwPz58xEWFobQ0FCkpKSYqhGff/45IiMjTUvfvn0RHR1tOlaSJISHh5u2FxYWWtU/\n",
              "WcK8X79+iIuLw6JFi+Dr64sXXngBx48fl6MpInJy7TUyT01NxZw5c3D8+HEsWrQIycnJLfbJzc1F\n",
              "cXExiouLceTIEbi4uCAnJwcAkJiYCK1Wa1qio6MxZcoUs+MLCwtN20eMGGFV/2QJc3d3d/zxj3/E\n",
              "Tz/9hPz8fFy8eBFDhgxBXFwc3nvvvTseq9frUVNTY7ZwBgwR3VYbRuaW5k1VVRX27duHqVOnAgCS\n",
              "kpJQXl6OkpISs/0OHjyIhIQEuLm5QZIkjB07Fhs3bmxxvnPnzmH37t2YNm2avT4F+b+cYtiwYVi7\n",
              "di0qKysxffp0rFmz5o77Z2dnw9PT02zJzs6Wu5tEpFRtCHNL86a8vBx9+vRBp07G2dySJEGtVqOs\n",
              "rMxsv8GDB6OgoAA1NTVobGzE1q1bUVpa2uJ869evx6OPPgpvb2+z9aNHj0ZERATS09NRV1dn1ccg\n",
              "S5jf6i5Pd3d3pKSkoKio6I7HZmRkQKfTmS0ZGRlydJOInJy98yY5ORljxoxBfHw84uPjERISYvoF\n",
              "cIMQAu+++y5SUlLM1p85cwb79+/Hnj17UF1djQULFljVtiw3De3evdvmY1UqFVQqlR17Q0SOrC33\n",
              "lFuaN35+fqisrERTUxM6deoEIQTKysqgVqvN+yJJyMzMRGZmJgBg8+bNGDRokNk+33zzDRoaGpCY\n",
              "mGi2/sa53N3d8cwzz2DOnDlWvRdZRuY9e/aU47RERC21w2wWb29vREdH4/333wcAbN++Hb6+vggK\n",
              "CjLbr6GhwfRk2IsXL2L58uVYuHCh2T65ublITk6Gq6urad2VK1dQX18PwDgjZsuWLYiKirK8g5Ap\n",
              "zLdt22b698WLFzFu3Dh4enpi5MiRLWpMRERt0V6zWVavXo3Vq1cjJCQEy5cvx7p16wAAs2bNQkFB\n",
              "AQBAp9Nh2LBhGDRoEEaMGIG5c+fi8ccfN51Dp9Nhx44dmDlzptm5jx49iqFDhyIiIgLh4eG4dOkS\n",
              "3nzzTSs/BxkeYxgdHY3i4mIAwOzZs9GrVy/8/ve/x6ZNm1BYWIgPP/zQ3k2SAwnMeaOju9AhTqWl\n",
              "d3QXFCki7a82H3sw5w927EnHkqVmfvPvh71796K4uBiurq5IT0/Hhg0b5GiSiJyVg93JaStZwryh\n",
              "oQGHDh2CEAKSJJnVhvgIXCIi+5MlzK9du4bx48ebRugVFRXw9fWFTqczPRaXiMgeHO0ZK7aSJcxv\n",
              "NUkeANzc3LB9+3Y5miQiZ8UwB9AOs1kuXbpkms0yduxYs5ILEVFb8amJRrKE+c23w77wwgsIDw/H\n",
              "sWPHoNFokJaWJkeTROSs2umpiXc7zmYhIkVztBG2rTibhYjIAXA2CxEpG0fmANp5Nkvnzp05m4WI\n",
              "7IthDkCmML+de+65B/369WvPJonIwbFmbtSuYU5EZHcMcwAMcyJSOMn+zwpUJF6NJCJyAByZE5Gy\n",
              "cWAOgGFORArHC6BGDHMiUjaGOQCGOREpHEfmRgxzIlI2hjkAzmYhInIIHJkTkaKxzGIky8jcYDDg\n",
              "+++/l+PURETm+DxzADKFuYuLC+bMmSPHqYmIzPCbhoxkq5kHBwejpKRErtMTERkJYfviQGSrmV++\n",
              "fBmRkZEYNmwYunXrZlq/Y8cOuZokIifkaCNsW8kW5tOnT8f06dPlOj0REd1E1jAHAL1eD5VKJVcz\n",
              "ROTsODIHIGPN/NChQwgLC0P//v0BAPv378fChQvlao6InJRksH1xJLKF+fPPP49Vq1bBy8sLABAd\n",
              "HY1PP/1UruaIyFlxaiIAGcO8trYWw4cPN72WJAlubm5yNUdETqq9piaeOHECw4YNQ0hICGJiYnD4\n",
              "8OEW+xgMBsyfPx9hYWEIDQ1FSkoKrl+/DsD43ciurq6IjIw0LSdPnjQd+8knnyA0NBTBwcF48skn\n",
              "UVNTY1X/ZAvzTp06obGxEZIkAQDKy8vh6uoqV3NE5KzaaWpiamoq5syZg+PHj2PRokVITk5usU9u\n",
              "bi6Ki4tRXFyMI0eOwMXFBTk5Oabt3bt3h1arNS03ytC1tbVISUnBRx99hBMnTqBv3754+eWXreqf\n",
              "bGH+3HPPYcKECaiursaLL76IESNGsGZORIpUVVWFffv2YerUqQCApKQklJeXt7iX5uDBg0hISICb\n",
              "mxskScLYsWOxcePGVs+/c+dOREVFITQ0FADwzDPPIC8vz6o+yhbmU6dOxeLFi/Gb3/wG169fx/vv\n",
              "v4+nn35aruaIyEm1pcyi1+tRU1Njtuj1+hZtlJeXo0+fPujUyTgBUJIkqNVqlJWVme03ePBgFBQU\n",
              "oKamBo2Njdi6dStKS0tN2+vq6hATE4Po6Gi89NJLaG5uBgCUlZXB39/ftF9AQAAqKyvR1NRk8ecg\n",
              "29TEd999FzNnzsSwYcNarCO6k1Np6R3dhQ4RmPNGR3ehQ7T5v3cbLmRmZ2cjKyvLbN3SpUuRmZlp\n",
              "0/mSk5Nx5swZxMfHo2vXrkhISMAXX3wBAOjTpw/Onj0Lb29vXL58GZMmTcKKFSvsVrGQbWT+9ttv\n",
              "t1j3zjvvyNUcETmptozMMzIyoNPpzJaMjIwWbfj5+ZmNlIUQKCsrg1qtNu+LJCEzMxMHDhzAnj17\n",
              "MHDgQAwaNAgAoFKp4O3tDQDo2bMnZs6cicLCQgCAWq3GmTNnTOcpLS01+0vAEnYfme/duxffffcd\n",
              "qqur8be//c20XqfT3fLPFyKiNmnDM1ZUKpVFNzV6e3sjOjoa77//PpKTk7F9+3b4+voiKCjIbL+G\n",
              "hgZcu3YNPXr0wMWLF7F8+XLThcyqqir06NEDnTt3hl6vx44dOxAVFQUAGDNmDJ599lkcPXoUoaGh\n",
              "WLlyJSZPnmzVe7F7mFdWVkKr1aK+vh4HDhwwrffw8MD69evt3RwRObn2ejbL6tWrkZycjFdffRUe\n",
              "Hh5Yt24dAGDWrFnQaDTQaDTQ6XQYOXIkXFxcYDAYkJaWhscffxwAUFRUhD//+c9wdXVFU1MTHn74\n",
              "YSxevBiAcZbL2rVrMWHCBDQ1NSEsLAwbNmywqn+SEPI8Omznzp0YO3asHKcmckismdsmbvzrNh/7\n",
              "/z5e0Ka27yayXQAdO3Yszp07h3/9619oaGgwrddoNHI1SUTOyMHu5LSVbGG+bt06ZGVl4fLlywgO\n",
              "DsbBgwcxdOhQhjkR2RUfgWsk22yWN954AwcOHED//v2xf/9+fPXVVwgJCZGrOSJyVgZh++JAZAtz\n",
              "Nzc39OjRwzSVJy4uDlqtVq7miMhZ8UFbAGQss6hUKgghEBISgjfffBP+/v6ora2VqzkiIqcmW5gv\n",
              "W7YMNTU1eO211zB37lxcvXoVK1eulKs5InJSrJkbyRbmDz/8MADA09MTX375pVzNEJGzc7AvZraV\n",
              "3cP85rs+b2XevHn2bpKInBhH5kZ2D/Ob7/r8TzeebU5EZDcMcwAyhPmNW1yJiNqDxDILABmnJhIR\n",
              "UfuR7QIoEVG7MHR0B+4ODHMiUjSWWYwY5kSkbMxyADKEeVRU1B1nrRQXF9u7SSJyZhyZA5AhzN98\n",
              "8017n5KI6LY4z9zI7mEeHx9v71MSEVEr7B7mTzzxxB3LLDt27LB3k0TkzFhmASBDmE+YMMHepyQi\n",
              "ui2JUxMByBDm06dPt/cpiYhujyNzADJPTdy6dSu0Wq3Zd4C+8YZzfmktEcmEWQ5Axtv5582bh40b\n",
              "N2L9+vWQJAn5+fnQ6XRyNUdETkoSwubFkcgW5v/7v/+Ljz/+GF5eXlixYgX27t2LiooKuZojInJq\n",
              "spVZunTpAhcXF0iShMbGRvj4+ODcuXNyNUdEzsrBRti2ki3Mu3fvjvr6egwfPhxTp06Fj48P7rnn\n",
              "HrmaIyJnxdksAGQss+Tl5aFTp054/fXX8cADD6Bz587Iz8+XqzkiclKsmRvJNjL39PRE586d4ebm\n",
              "hsWLF8NgMOD69etyNUdEzsrBQtlWso3MH374YdTU1Jhe//zzz0hISJCrOSJyVkLYvjgQ2cK8vr4e\n",
              "np6epteenp6ora2VqzkiIqcmW5gbDAaz8K6pqUFTU5NczRGRszK0YXEgsoX5lClTkJCQgPXr12P9\n",
              "+vV45JFHeKs/Edlde10APXHiBIYNG4aQkBDExMTg8OHDLfYxGAyYP38+wsLCEBoaipSUFNO1wkOH\n",
              "DiEuLg6hoaEICwvDzJkzce3atX+/D0lCeHg4IiMjERkZicLCQqv6J1uYL1q0CL/73e/w2Wef4bPP\n",
              "PsNzzz2HBQsWyNUcETmrdqqZp6amYs6cOTh+/DgWLVqE5OTkFvvk5uaiuLgYxcXFOHLkCFxcXJCT\n",
              "kwPAeO/N22+/jaNHj+LgwYOoq6vDX/7yF7PjCwsLodVqodVqMWLECKv6J+uzWaZPn271aFyv10Ov\n",
              "15utU6lUUKlU9uwaETmKNlzItDRvqqqqsG/fPnzxxRcAgKSkJDz33HMoKSlBUFCQab+DBw8iISEB\n",
              "bm5uAICxY8ciMzMTCxYsQHBwsGk/V1dXxMTE4F//+pfNff9Pso3MbZWdnQ1PT0+zJTs7u6O7RUR3\n",
              "qzaMzC3Nm/LycvTp0wedOhnHv5IkQa1Wo6yszGy/wYMHo6CgADU1NWhsbMTWrVtRWlra4nx1dXVY\n",
              "u3Ytxo8fb7Z+9OjRiIiIQHp6Ourq6qz6GO66MM/IyIBOpzNbMjIyOrpbROSA7J03ycnJGDNmDOLj\n",
              "4xEfH4+QkBDTL4Abrl+/jkmTJuGRRx7BE088YVp/5swZ7N+/H3v27EF1dbXVZWlZyyy2YEmFiKzS\n",
              "hlkpluaNn58fKisr0dTUhE6dOkEIgbKyMqjVarP9JElCZmYmMjMzAQCbN2/GoEGDTNsbGxsxadIk\n",
              "9OnTx1RLv+HGudzd3fHMM89gzpw5Vr0Xu4/Ma2pq7rgQEdlTe8xm8fb2RnR0NN5//30AwPbt2+Hr\n",
              "62tWLweAhoYGXLlyBQBw8eJFLF++HAsXLgQANDU1YfLkyejZsyfWrFlj9vWaV65cQX19PQDjjJgt\n",
              "W7YgKirKqs/B7iPze++9F5IkQdz0Qd14LUkSmpub7d0kETmzdrqTc/Xq1UhOTsarr74KDw8PrFu3\n",
              "DgAwa9YsaDQaaDQa6HQ6jBw5Ei4uLjAYDEhLS8Pjjz8OANiyZQt27NiBBx54wBTUsbGxeOedd3D0\n",
              "6FGkpqZCkiQ0NTUhOjq6xci9NZIQ7fRJENEdBeY457dwnUpLb9PxYwe8YPOxO48tb1Pbd5O7rmZO\n",
              "RGQVjkcByBDmPXr0MKsF3XCjzHL58mV7N0lE5PTsHuZardbepyQiuj2OzAHIEOb+/v72PiUR0e0x\n",
              "zAHIEOajRo2CJEno2bMnv1mIiORnYJgDMoT5+vXrARifPUBEJDvhYM+ytRHLLESkbCyzAJAhzJ94\n",
              "4olbzma5YceOHfZukojI6dk9zCdMmGDvUxIR3R5r5gBkCHN+mxARtSuWWQDwDlAiUjqGOQCGOREp\n",
              "HcMcAMOciJTOwKmJwF34TUNERGS9dgvzhIQEaDQa7Nmzp72aJCJn0IbvAHUk7VZmyc7ORmlpKfLy\n",
              "8jBs2LD2apaIHJ2DhbKtZAtzg8EAF5d/D/xjYmIQExODp556Sq4micgZcZ45ABnLLAEBAXj11VdR\n",
              "XV0tVxNERBDCYPPiSGQL8y+//BJVVVUICwvDtGnT8P3338vVFBE5M4OwfXEgsoX5gAED8Oabb+L0\n",
              "6dMYMWIEnn76acTExGDTpk3g144SEdmXrLNZhBD44osvsGXLFnTr1g2//vWvkZeXhyeffFLOZonI\n",
              "mXA2CwAZL4BmZ2djzZo1GDRoEBYtWoRHHnkEAJCeno7g4GC5miUiZ8ObhgDIGObnzp3D559/jpCQ\n",
              "kBbbNm/eLFezRORsHGyEbStZwry5uRlHjhy5ZZADwODBg+VoloickODIHIBMYe7q6or6+voWc82J\n",
              "iOyOI3MAMpZZYmJi8Nhjj2Hq1Kno1q2bab1Go5GrSSIipyVbmP/4448AgL///e+mdZIkMcyJyL4c\n",
              "bL64rWSrmT/xxBOYN2+eHKcnIvo3B7uT01ayFLRdXV3x3nvvyXFqIiIzwiBsXhyJbFcnExIS8MEH\n",
              "H8h1eiIiI2GwfbHCiRMnMGzYMISEhCAmJgaHDx9usY/BYMD8+fMRFhaG0NBQpKSk4Pr166btn3zy\n",
              "CUJDQxEcHIwnn3wSNTU1Fm2zhGxhvnr1akybNg1dunRBz5490aNHD/Ts2VOu5ojISbXXyDw1NRVz\n",
              "5szB8ePHsWjRIiQnJ7fYJzc3F8XFxSguLsaRI0fg4uKCnJwcAEBtbS1SUlLw0Ucf4cSJE+jbty9e\n",
              "fvnlVrdZSrYw12q1OH36NI4dO4YDBw5Aq9XiwIEDcjVHRCSbqqoq7Nu3D1OnTgUAJCUloby8HCUl\n",
              "JWb7HTx4EAkJCXBzc4MkSRg7diw2btwIANi5cyeioqIQGhoKAHjmmWeQl5fX6jZLyRbm/v7+8PLy\n",
              "wtmzZ3H27Fl4eXnB399fruaIyFm1ocyi1+tRU1Njtuj1+hZNlJeXo0+fPujUyThnRJIkqNVqlJWV\n",
              "me03ePBgFBQUoKamBo2Njdi6dStKS0sBAGVlZWYZGBAQgMrKSjQ1Nd1xm6Vkm5q4Z88eJCUlwcfH\n",
              "BwBw4cIFbN++Hb/85S/latLu9Ho9srOzkZGRAZVK1dHdaTd83x3zvk+lpbd7m0DHv++2+tKwzeZj\n",
              "MzMzkZWVZbZu6dKlyMzMtOl8ycnJOHPmDOLj49G1a1ckJCTgiy++sLl/VhEyeeihh0RRUZHp9bff\n",
              "fiseeughuZqThU6nEwCETqfr6K60K75vvm9n0dDQIHQ6ndnS0NDQYr8LFy6I7t27i8bGRiGEEAaD\n",
              "Qdx3333ixIkTdzx/Xl6eGD58uBBCiK1bt4rExETTtsOHD4tf/OIXrW6zlGxllmvXriE2Ntb0etiw\n",
              "YWhoaJCrOSIiq6lUKnh4eJgtt/rrxNvbG9HR0Xj//fcBANu3b4evry+CgoLM9mtoaMCVK1cAABcv\n",
              "XsTy5cuxcOFCAMCYMWNQXFyMo0ePAgBWrlyJyZMnt7rNUrKVWbp164Zdu3YhISEBALB79264u7vL\n",
              "1RwRkaxWr16N5ORkvPrqq/Dw8MC6desAALNmzYJGo4FGo4FOp8PIkSPh4uICg8GAtLQ0PP744wCA\n",
              "7t27Y+3atZgwYQKampoQFhaGDRs2tLrNUpIQ8jylZt++fUhKSoKrqyuEEBBCYMeOHYiOjpajOVnU\n",
              "1NTA09MTOp0OHh4eHd2ddsP3zfdNyiPbyHzIkCEoKSnBsWPHABi/Rq5z585yNScLlUqFpUuXKvKi\n",
              "UFvwffN9k/LINjK/4dSpUygoKEBQUBAee+wxOZsiInJadr8AmpCQAK1WC8D4bUNDhgzB559/jvnz\n",
              "5+Mvf/mLvZsjIiLIEOZnz55FZGQkAGDTpk2Ij4/Hzp078d133/FZLUREMrF7mHft2tX07z179uDR\n",
              "Rx8FAPTo0cN09xQREdmX3cPcxcUFFRUVqK2txTfffIP4+HjTtvr6ens3J4uGhgZMmDABISEhiIiI\n",
              "wK9+9asWz2BQonXr1kGSJHz00UcAgL1792Lo0KGIiorC/fffj9dee82075/+9CeEhoYiIiLCVCq7\n",
              "ITMzE15eXoiMjERkZCSmTJnS3m/FYgEBARgwYICpr1u2bLnj+kuXLpnWRUZGIiQkBJ06dcLly5cB\n",
              "ADNmzDD9XMTGxuKHH37osPfWGkmScPXq1Y7uBrUXq24xssD27dtF7969hY+Pj0hKSjKt//bbb83u\n",
              "cLqbXbt2TXz66afCYDAIIYR46623RHx8fMd2qo1Onz4tfvnLX4qhQ4eKDz/8UAghREREhPj444+F\n",
              "EEJcunRJeHl5icOHDwshhPjss89EfX29EEIIrVYrPDw8RG1trRBCiKVLl4q0tLR2fw+28Pf3FwcO\n",
              "HLB4/X96/fXXxWOPPWZ6/fHHH5vuAvzHP/4h/P397dRT+wMgrly50tHdoHZi95H5k08+iUOHDuF/\n",
              "/ud/sG3bv5+ZEBAQgDVr1ti7OVl06dIFjz76KCRJAgAMHTrU9LAcJTIYDJg1axbeeusts+lnN4/c\n",
              "6urq4ObmZnpM8dixY00ls/DwcAghUF1d3e5972i5ublISUkxvdZoNKZy4dChQ3H27FmrHobU3lau\n",
              "XIkHH3wQ/fr1M93kAgDz589HTEwMIiMjERcXZ5pCDBh/Ll555RU89NBDCAgIwEcffYTs7GwMGTIE\n",
              "wcHB+PrrrzvgnVCrOvq3iRJMnTpVzJs3r6O7YbPXX39d/PnPfxZCCBEfH28amR84cECo1Wrh5+cn\n",
              "unTpIjZs2HDL49euXSsiIiJMf6ksXbpU9O3bVzzwwANi1KhR4quvvmqX92ELf39/ER4eLsLCwsTM\n",
              "mTNFVVXVHdff7NtvvxX33XefaST+n1588UWh0Whk7X9bABD/9V//JYQQ4siRI6Jbt26m93Lz+83L\n",
              "yzP7qxmAePPNN4UQQuzatUu4u7uLdevWCSGMzxAZMmRIO70DsgbDvBWvvPKKGDp0qKirq+vortjk\n",
              "0KFDYujQoeL69etCCPMwnzRpkvjggw+EEEKcPHlS+Pr6msosN+zatUv4+fmJo0ePmtZVVlaazldU\n",
              "VCS8vLxEaWlpO7wb6505c0YIIcT169fFwoULxdixY++4/mYzZ84UCxYsuOV5N27cKEJCQsT58+dl\n",
              "6nnbARCVlZWm1/fee68oLy8XQgjxwQcfiKFDh4pBgwaJ+++/X9x33323PO7q1asCgLh27ZoQQojS\n",
              "0lLh6enZfm+CLMYwv4PXX39dDB48WNF1x5UrVwofHx/h7+8v/P39hUqlEl5eXuKll14Sbm5uZvtO\n",
              "nDhRrFmzxvT666+/Fn5+fkKr1d6xjUceeUTk5+fL0n97OnfunOjWrZtF63/++WfRrVs3ceTIkRb7\n",
              "b968WQQFBZl+Idyt8B818169eonTp0+LM2fOiB49eoiSkhIhhBAHDx40C+ibj/v555/FzX/Al5eX\n",
              "C3d39/boPlmJYX4bK1asENHR0eLy5csd3RW7ujEyb2pqEj169BC7d+8WQghRXV0t/Pz8xJ49e4QQ\n",
              "QnzzzTfCz89PFBcXtzjHjdGdEEIcP35ceHt7i2PHjrXPG7BCbW2tWZitWLFCjBgx4rbrb7Z27VoR\n",
              "Gxvb4pxbtmwRQUFBd+1fIje7XZj/+OOPwtvbW9TV1QmDwSBmz57NMHcAnPh9CxUVFfjjH/+IwMBA\n",
              "jBo1CoDx+RXff/99B/fMflxdXbF161YsWLAATU1NaGxsxO9//3vTl4ekpKRAr9djxowZpmM2btyI\n",
              "8PBwLF68GPv370enTp3g6uqKd955ByEhIR31Vm7rwoULSEpKQnNzM4QQCAwMxHvvvXfb9TfLzc3F\n",
              "7NmzW5xzypQp8PHxwfjx403rdu/ejV69esn+fuwlPDwckydPxqBBg9CrVy9MmDCho7tEdiD7s1mI\n",
              "iEh+sn05BRERtR+GORGRA2CY012ntLQUI0eOhKenp+mhbUR0Zwxzuut4eHhg2bJl2LRpU0d3hUgx\n",
              "GObUYV555RU899xzpte1tbXo2bMnmpubMXz4cH5nLJEVGObUYX77299i69at0Ov1AIBt27Zh1KhR\n",
              "8PLy6uCeESkPw5w6jJ+fH6KiolBQUAAAWL9+vdm8diKyHMOcOtTMmTOxbt06nDp1CiUlJRgzZkxH\n",
              "d4lIkRjm1KEmTJiAH374AdnZ2Zg6dSq/jYrIRvw/hzqUSqXC008/jZUrV+LIkSMAjN9IFRISAr1e\n",
              "D51OB19fX0ybNg3Z2dkd3Fuiuxdv5ycicgAssxAROQCGORGRA2CYExE5AIY5EZEDYJgTETkAhjkR\n",
              "kQNgmBMROQCGORGRA2CYExE5AIY5EZEDYJgTETmA/wNDZOL8qj82rwAAAABJRU5ErkJggg==\n",
              "\">\n",
              "        \n",
              "      </div>\n",
              "      <script></script>\n",
              "      <script type=\"text/javascript\">\n",
              "        (() => {\n",
              "          const chartElement = document.getElementById(\"chart-a68f6220-2d37-4472-afa3-86eeb92cb807\");\n",
              "          async function getCodeForChartHandler(event) {\n",
              "            const chartCodeResponse =  await google.colab.kernel.invokeFunction(\n",
              "                'getCodeForChart', [\"chart-a68f6220-2d37-4472-afa3-86eeb92cb807\"], {});\n",
              "            const responseJson = chartCodeResponse.data['application/json'];\n",
              "            await google.colab.notebook.addCell(responseJson.code, 'code');\n",
              "          }\n",
              "          chartElement.onclick = getCodeForChartHandler;\n",
              "        })();\n",
              "      </script>\n",
              "      <style>\n",
              "        .colab-quickchart-chart-with-code  {\n",
              "            display: block;\n",
              "            float: left;\n",
              "            border: 1px solid transparent;\n",
              "        }\n",
              "\n",
              "        .colab-quickchart-chart-with-code:hover {\n",
              "            cursor: pointer;\n",
              "            border: 1px solid #aaa;\n",
              "        }\n",
              "      </style>"
            ]
          },
          "metadata": {}
        }
      ],
      "source": [
        "df.describe()"
      ]
    },
    {
      "cell_type": "code",
      "execution_count": 17,
      "id": "8cc40ff1",
      "metadata": {
        "colab": {
          "base_uri": "https://localhost:8080/"
        },
        "id": "8cc40ff1",
        "outputId": "86d91e70-d7fb-466f-f434-3759b5edf9f7"
      },
      "outputs": [
        {
          "output_type": "execute_result",
          "data": {
            "text/plain": [
              "v1    0\n",
              "v2    0\n",
              "dtype: int64"
            ]
          },
          "metadata": {},
          "execution_count": 17
        }
      ],
      "source": [
        "df.isnull().sum()"
      ]
    },
    {
      "cell_type": "code",
      "execution_count": 18,
      "id": "7d06f0f5",
      "metadata": {
        "colab": {
          "base_uri": "https://localhost:8080/"
        },
        "id": "7d06f0f5",
        "outputId": "7c02d348-e55e-461e-81f6-fe4d133b1eb6"
      },
      "outputs": [
        {
          "output_type": "execute_result",
          "data": {
            "text/plain": [
              "Index(['v1', 'v2'], dtype='object')"
            ]
          },
          "metadata": {},
          "execution_count": 18
        }
      ],
      "source": [
        "df.columns"
      ]
    },
    {
      "cell_type": "code",
      "execution_count": 19,
      "id": "df4e4855",
      "metadata": {
        "id": "df4e4855"
      },
      "outputs": [],
      "source": [
        "# Rename the columns \"v1 and \"v2\" to new names\n",
        "\n",
        "new_column_names = {\"v1\":\"Category\",\"v2\":\"Message\"}\n",
        "df.rename(columns = new_column_names,inplace = True)"
      ]
    },
    {
      "cell_type": "code",
      "execution_count": 20,
      "id": "2e5758ad",
      "metadata": {
        "colab": {
          "base_uri": "https://localhost:8080/",
          "height": 206
        },
        "id": "2e5758ad",
        "outputId": "8ab552aa-4d27-4ee6-97bd-2562a7cb8d61"
      },
      "outputs": [
        {
          "output_type": "execute_result",
          "data": {
            "text/plain": [
              "  Category                                            Message\n",
              "0      ham  Go until jurong point, crazy.. Available only ...\n",
              "1      ham                      Ok lar... Joking wif u oni...\n",
              "2     spam  Free entry in 2 a wkly comp to win FA Cup fina...\n",
              "3      ham  U dun say so early hor... U c already then say...\n",
              "4      ham  Nah I don't think he goes to usf, he lives aro..."
            ],
            "text/html": [
              "\n",
              "  <div id=\"df-445da5c8-3a8d-419e-afbb-0e6c39ab2928\" class=\"colab-df-container\">\n",
              "    <div>\n",
              "<style scoped>\n",
              "    .dataframe tbody tr th:only-of-type {\n",
              "        vertical-align: middle;\n",
              "    }\n",
              "\n",
              "    .dataframe tbody tr th {\n",
              "        vertical-align: top;\n",
              "    }\n",
              "\n",
              "    .dataframe thead th {\n",
              "        text-align: right;\n",
              "    }\n",
              "</style>\n",
              "<table border=\"1\" class=\"dataframe\">\n",
              "  <thead>\n",
              "    <tr style=\"text-align: right;\">\n",
              "      <th></th>\n",
              "      <th>Category</th>\n",
              "      <th>Message</th>\n",
              "    </tr>\n",
              "  </thead>\n",
              "  <tbody>\n",
              "    <tr>\n",
              "      <th>0</th>\n",
              "      <td>ham</td>\n",
              "      <td>Go until jurong point, crazy.. Available only ...</td>\n",
              "    </tr>\n",
              "    <tr>\n",
              "      <th>1</th>\n",
              "      <td>ham</td>\n",
              "      <td>Ok lar... Joking wif u oni...</td>\n",
              "    </tr>\n",
              "    <tr>\n",
              "      <th>2</th>\n",
              "      <td>spam</td>\n",
              "      <td>Free entry in 2 a wkly comp to win FA Cup fina...</td>\n",
              "    </tr>\n",
              "    <tr>\n",
              "      <th>3</th>\n",
              "      <td>ham</td>\n",
              "      <td>U dun say so early hor... U c already then say...</td>\n",
              "    </tr>\n",
              "    <tr>\n",
              "      <th>4</th>\n",
              "      <td>ham</td>\n",
              "      <td>Nah I don't think he goes to usf, he lives aro...</td>\n",
              "    </tr>\n",
              "  </tbody>\n",
              "</table>\n",
              "</div>\n",
              "    <div class=\"colab-df-buttons\">\n",
              "\n",
              "  <div class=\"colab-df-container\">\n",
              "    <button class=\"colab-df-convert\" onclick=\"convertToInteractive('df-445da5c8-3a8d-419e-afbb-0e6c39ab2928')\"\n",
              "            title=\"Convert this dataframe to an interactive table.\"\n",
              "            style=\"display:none;\">\n",
              "\n",
              "  <svg xmlns=\"http://www.w3.org/2000/svg\" height=\"24px\" viewBox=\"0 -960 960 960\">\n",
              "    <path d=\"M120-120v-720h720v720H120Zm60-500h600v-160H180v160Zm220 220h160v-160H400v160Zm0 220h160v-160H400v160ZM180-400h160v-160H180v160Zm440 0h160v-160H620v160ZM180-180h160v-160H180v160Zm440 0h160v-160H620v160Z\"/>\n",
              "  </svg>\n",
              "    </button>\n",
              "\n",
              "  <style>\n",
              "    .colab-df-container {\n",
              "      display:flex;\n",
              "      gap: 12px;\n",
              "    }\n",
              "\n",
              "    .colab-df-convert {\n",
              "      background-color: #E8F0FE;\n",
              "      border: none;\n",
              "      border-radius: 50%;\n",
              "      cursor: pointer;\n",
              "      display: none;\n",
              "      fill: #1967D2;\n",
              "      height: 32px;\n",
              "      padding: 0 0 0 0;\n",
              "      width: 32px;\n",
              "    }\n",
              "\n",
              "    .colab-df-convert:hover {\n",
              "      background-color: #E2EBFA;\n",
              "      box-shadow: 0px 1px 2px rgba(60, 64, 67, 0.3), 0px 1px 3px 1px rgba(60, 64, 67, 0.15);\n",
              "      fill: #174EA6;\n",
              "    }\n",
              "\n",
              "    .colab-df-buttons div {\n",
              "      margin-bottom: 4px;\n",
              "    }\n",
              "\n",
              "    [theme=dark] .colab-df-convert {\n",
              "      background-color: #3B4455;\n",
              "      fill: #D2E3FC;\n",
              "    }\n",
              "\n",
              "    [theme=dark] .colab-df-convert:hover {\n",
              "      background-color: #434B5C;\n",
              "      box-shadow: 0px 1px 3px 1px rgba(0, 0, 0, 0.15);\n",
              "      filter: drop-shadow(0px 1px 2px rgba(0, 0, 0, 0.3));\n",
              "      fill: #FFFFFF;\n",
              "    }\n",
              "  </style>\n",
              "\n",
              "    <script>\n",
              "      const buttonEl =\n",
              "        document.querySelector('#df-445da5c8-3a8d-419e-afbb-0e6c39ab2928 button.colab-df-convert');\n",
              "      buttonEl.style.display =\n",
              "        google.colab.kernel.accessAllowed ? 'block' : 'none';\n",
              "\n",
              "      async function convertToInteractive(key) {\n",
              "        const element = document.querySelector('#df-445da5c8-3a8d-419e-afbb-0e6c39ab2928');\n",
              "        const dataTable =\n",
              "          await google.colab.kernel.invokeFunction('convertToInteractive',\n",
              "                                                    [key], {});\n",
              "        if (!dataTable) return;\n",
              "\n",
              "        const docLinkHtml = 'Like what you see? Visit the ' +\n",
              "          '<a target=\"_blank\" href=https://colab.research.google.com/notebooks/data_table.ipynb>data table notebook</a>'\n",
              "          + ' to learn more about interactive tables.';\n",
              "        element.innerHTML = '';\n",
              "        dataTable['output_type'] = 'display_data';\n",
              "        await google.colab.output.renderOutput(dataTable, element);\n",
              "        const docLink = document.createElement('div');\n",
              "        docLink.innerHTML = docLinkHtml;\n",
              "        element.appendChild(docLink);\n",
              "      }\n",
              "    </script>\n",
              "  </div>\n",
              "\n",
              "\n",
              "<div id=\"df-938d71db-3e62-4a56-9fdc-a5e8812a44b7\">\n",
              "  <button class=\"colab-df-quickchart\" onclick=\"quickchart('df-938d71db-3e62-4a56-9fdc-a5e8812a44b7')\"\n",
              "            title=\"Suggest charts.\"\n",
              "            style=\"display:none;\">\n",
              "\n",
              "<svg xmlns=\"http://www.w3.org/2000/svg\" height=\"24px\"viewBox=\"0 0 24 24\"\n",
              "     width=\"24px\">\n",
              "    <g>\n",
              "        <path d=\"M19 3H5c-1.1 0-2 .9-2 2v14c0 1.1.9 2 2 2h14c1.1 0 2-.9 2-2V5c0-1.1-.9-2-2-2zM9 17H7v-7h2v7zm4 0h-2V7h2v10zm4 0h-2v-4h2v4z\"/>\n",
              "    </g>\n",
              "</svg>\n",
              "  </button>\n",
              "\n",
              "<style>\n",
              "  .colab-df-quickchart {\n",
              "      --bg-color: #E8F0FE;\n",
              "      --fill-color: #1967D2;\n",
              "      --hover-bg-color: #E2EBFA;\n",
              "      --hover-fill-color: #174EA6;\n",
              "      --disabled-fill-color: #AAA;\n",
              "      --disabled-bg-color: #DDD;\n",
              "  }\n",
              "\n",
              "  [theme=dark] .colab-df-quickchart {\n",
              "      --bg-color: #3B4455;\n",
              "      --fill-color: #D2E3FC;\n",
              "      --hover-bg-color: #434B5C;\n",
              "      --hover-fill-color: #FFFFFF;\n",
              "      --disabled-bg-color: #3B4455;\n",
              "      --disabled-fill-color: #666;\n",
              "  }\n",
              "\n",
              "  .colab-df-quickchart {\n",
              "    background-color: var(--bg-color);\n",
              "    border: none;\n",
              "    border-radius: 50%;\n",
              "    cursor: pointer;\n",
              "    display: none;\n",
              "    fill: var(--fill-color);\n",
              "    height: 32px;\n",
              "    padding: 0;\n",
              "    width: 32px;\n",
              "  }\n",
              "\n",
              "  .colab-df-quickchart:hover {\n",
              "    background-color: var(--hover-bg-color);\n",
              "    box-shadow: 0 1px 2px rgba(60, 64, 67, 0.3), 0 1px 3px 1px rgba(60, 64, 67, 0.15);\n",
              "    fill: var(--button-hover-fill-color);\n",
              "  }\n",
              "\n",
              "  .colab-df-quickchart-complete:disabled,\n",
              "  .colab-df-quickchart-complete:disabled:hover {\n",
              "    background-color: var(--disabled-bg-color);\n",
              "    fill: var(--disabled-fill-color);\n",
              "    box-shadow: none;\n",
              "  }\n",
              "\n",
              "  .colab-df-spinner {\n",
              "    border: 2px solid var(--fill-color);\n",
              "    border-color: transparent;\n",
              "    border-bottom-color: var(--fill-color);\n",
              "    animation:\n",
              "      spin 1s steps(1) infinite;\n",
              "  }\n",
              "\n",
              "  @keyframes spin {\n",
              "    0% {\n",
              "      border-color: transparent;\n",
              "      border-bottom-color: var(--fill-color);\n",
              "      border-left-color: var(--fill-color);\n",
              "    }\n",
              "    20% {\n",
              "      border-color: transparent;\n",
              "      border-left-color: var(--fill-color);\n",
              "      border-top-color: var(--fill-color);\n",
              "    }\n",
              "    30% {\n",
              "      border-color: transparent;\n",
              "      border-left-color: var(--fill-color);\n",
              "      border-top-color: var(--fill-color);\n",
              "      border-right-color: var(--fill-color);\n",
              "    }\n",
              "    40% {\n",
              "      border-color: transparent;\n",
              "      border-right-color: var(--fill-color);\n",
              "      border-top-color: var(--fill-color);\n",
              "    }\n",
              "    60% {\n",
              "      border-color: transparent;\n",
              "      border-right-color: var(--fill-color);\n",
              "    }\n",
              "    80% {\n",
              "      border-color: transparent;\n",
              "      border-right-color: var(--fill-color);\n",
              "      border-bottom-color: var(--fill-color);\n",
              "    }\n",
              "    90% {\n",
              "      border-color: transparent;\n",
              "      border-bottom-color: var(--fill-color);\n",
              "    }\n",
              "  }\n",
              "</style>\n",
              "\n",
              "  <script>\n",
              "    async function quickchart(key) {\n",
              "      const quickchartButtonEl =\n",
              "        document.querySelector('#' + key + ' button');\n",
              "      quickchartButtonEl.disabled = true;  // To prevent multiple clicks.\n",
              "      quickchartButtonEl.classList.add('colab-df-spinner');\n",
              "      try {\n",
              "        const charts = await google.colab.kernel.invokeFunction(\n",
              "            'suggestCharts', [key], {});\n",
              "      } catch (error) {\n",
              "        console.error('Error during call to suggestCharts:', error);\n",
              "      }\n",
              "      quickchartButtonEl.classList.remove('colab-df-spinner');\n",
              "      quickchartButtonEl.classList.add('colab-df-quickchart-complete');\n",
              "    }\n",
              "    (() => {\n",
              "      let quickchartButtonEl =\n",
              "        document.querySelector('#df-938d71db-3e62-4a56-9fdc-a5e8812a44b7 button');\n",
              "      quickchartButtonEl.style.display =\n",
              "        google.colab.kernel.accessAllowed ? 'block' : 'none';\n",
              "    })();\n",
              "  </script>\n",
              "</div>\n",
              "    </div>\n",
              "  </div>\n"
            ]
          },
          "metadata": {},
          "execution_count": 20
        }
      ],
      "source": [
        "df.head()"
      ]
    },
    {
      "cell_type": "markdown",
      "id": "c441af9f",
      "metadata": {
        "id": "c441af9f"
      },
      "source": [
        "# Data Visualization"
      ]
    },
    {
      "cell_type": "code",
      "execution_count": 21,
      "id": "af42f8a8",
      "metadata": {
        "colab": {
          "base_uri": "https://localhost:8080/",
          "height": 472
        },
        "id": "af42f8a8",
        "outputId": "0e2a5fd9-70f8-4d3a-cdab-39db00f9d0e5"
      },
      "outputs": [
        {
          "output_type": "display_data",
          "data": {
            "text/plain": [
              "<Figure size 640x480 with 1 Axes>"
            ],
            "image/png": "[encoded data removed]"
          },
          "metadata": {}
        }
      ],
      "source": [
        "sns.countplot(data=df, x='Category')\n",
        "plt.xlabel('Category')\n",
        "plt.ylabel('count')\n",
        "plt.title('Distribution of mails')\n",
        "plt.show()"
      ]
    },
    {
      "cell_type": "code",
      "execution_count": 24,
      "id": "ccdbe96f",
      "metadata": {
        "colab": {
          "base_uri": "https://localhost:8080/",
          "height": 406
        },
        "id": "ccdbe96f",
        "outputId": "8faef12c-2a01-474e-cc75-2d8f2b9bfca3"
      },
      "outputs": [
        {
          "output_type": "display_data",
          "data": {
            "text/plain": [
              "<Figure size 640x480 with 1 Axes>"
            ],
            "image/png": "[encoded data removed]"
          },
          "metadata": {}
        }
      ],
      "source": [
        "plt.pie(df['Category'].value_counts(),labels=['ham','spam'],autopct='%0.3f')\n",
        "plt.show()"
      ]
    },
    {
      "cell_type": "markdown",
      "id": "cffaed04",
      "metadata": {
        "id": "cffaed04"
      },
      "source": [
        "# Data Preprocessing"
      ]
    },
    {
      "cell_type": "markdown",
      "id": "5ea4bf85",
      "metadata": {
        "id": "5ea4bf85"
      },
      "source": [
        "Label Encoding"
      ]
    },
    {
      "cell_type": "code",
      "execution_count": 25,
      "id": "39370d5f",
      "metadata": {
        "id": "39370d5f"
      },
      "outputs": [],
      "source": [
        "df.loc[df[\"Category\"] == \"spam\", \"Category\"] = 0\n",
        "df.loc[df[\"Category\"] == \"ham\", \"Category\"] = 1"
      ]
    },
    {
      "cell_type": "code",
      "execution_count": 26,
      "id": "4c965643",
      "metadata": {
        "id": "4c965643"
      },
      "outputs": [],
      "source": [
        "# Separate the feature (message) and target (category) data\n",
        "\n",
        "X = df[\"Message\"]\n",
        "Y = df[\"Category\"]"
      ]
    },
    {
      "cell_type": "code",
      "execution_count": 27,
      "id": "f818dfa8",
      "metadata": {
        "colab": {
          "base_uri": "https://localhost:8080/"
        },
        "id": "f818dfa8",
        "outputId": "e031cc28-27da-4aa5-907c-a537e64038d6"
      },
      "outputs": [
        {
          "output_type": "stream",
          "name": "stdout",
          "text": [
            "0       Go until jurong point, crazy.. Available only ...\n",
            "1                           Ok lar... Joking wif u oni...\n",
            "2       Free entry in 2 a wkly comp to win FA Cup fina...\n",
            "3       U dun say so early hor... U c already then say...\n",
            "4       Nah I don't think he goes to usf, he lives aro...\n",
            "                              ...                        \n",
            "5567    This is the 2nd time we have tried 2 contact u...\n",
            "5568                Will Ì_ b going to esplanade fr home?\n",
            "5569    Pity, * was in mood for that. So...any other s...\n",
            "5570    The guy did some bitching but I acted like i'd...\n",
            "5571                           Rofl. Its true to its name\n",
            "Name: Message, Length: 5572, dtype: object\n"
          ]
        }
      ],
      "source": [
        "print(X)"
      ]
    },
    {
      "cell_type": "code",
      "execution_count": 28,
      "id": "63fa80f7",
      "metadata": {
        "colab": {
          "base_uri": "https://localhost:8080/"
        },
        "id": "63fa80f7",
        "outputId": "bb129d0a-328f-43a4-adda-e334c1447863"
      },
      "outputs": [
        {
          "output_type": "stream",
          "name": "stdout",
          "text": [
            "0       1\n",
            "1       1\n",
            "2       0\n",
            "3       1\n",
            "4       1\n",
            "       ..\n",
            "5567    0\n",
            "5568    1\n",
            "5569    1\n",
            "5570    1\n",
            "5571    1\n",
            "Name: Category, Length: 5572, dtype: object\n"
          ]
        }
      ],
      "source": [
        "print(Y)"
      ]
    },
    {
      "cell_type": "markdown",
      "id": "dabc69a6",
      "metadata": {
        "id": "dabc69a6"
      },
      "source": [
        "Splitting the data into training data and test data"
      ]
    },
    {
      "cell_type": "code",
      "execution_count": 29,
      "id": "7267d395",
      "metadata": {
        "id": "7267d395"
      },
      "outputs": [],
      "source": [
        "X_train, X_test, Y_train, Y_test = train_test_split(X, Y, test_size = 0.2, random_state = 3)"
      ]
    },
    {
      "cell_type": "code",
      "execution_count": 30,
      "id": "9e9bb4bd",
      "metadata": {
        "colab": {
          "base_uri": "https://localhost:8080/"
        },
        "id": "9e9bb4bd",
        "outputId": "4610a93f-858a-4012-951e-e41346822de3"
      },
      "outputs": [
        {
          "output_type": "stream",
          "name": "stdout",
          "text": [
            "(5572,)\n"
          ]
        }
      ],
      "source": [
        "# Print the shape of X\n",
        "print(X.shape)"
      ]
    },
    {
      "cell_type": "code",
      "execution_count": 31,
      "id": "60739cb5",
      "metadata": {
        "colab": {
          "base_uri": "https://localhost:8080/"
        },
        "id": "60739cb5",
        "outputId": "3573a031-518d-4a6c-e2d2-a3e008b0929d"
      },
      "outputs": [
        {
          "output_type": "stream",
          "name": "stdout",
          "text": [
            "(4457,)\n",
            "(1115,)\n"
          ]
        }
      ],
      "source": [
        "# Print the shape of X_train and X_test\n",
        "print(X_train.shape)\n",
        "print(X_test.shape)"
      ]
    },
    {
      "cell_type": "markdown",
      "id": "57538f1d",
      "metadata": {
        "id": "57538f1d"
      },
      "source": [
        "#  Feature Engineering and Extraction\n"
      ]
    },
    {
      "cell_type": "markdown",
      "id": "d0965dcc",
      "metadata": {
        "id": "d0965dcc"
      },
      "source": [
        "TF-IDF Vectorizer"
      ]
    },
    {
      "cell_type": "code",
      "execution_count": 32,
      "id": "7d9d0bcd",
      "metadata": {
        "id": "7d9d0bcd"
      },
      "outputs": [],
      "source": [
        "# Initialize TF-IDF Vectorizer\n",
        "feature_extraction = TfidfVectorizer(min_df=1, stop_words=\"english\", lowercase=True)"
      ]
    },
    {
      "cell_type": "code",
      "execution_count": 33,
      "id": "98252e91",
      "metadata": {
        "id": "98252e91"
      },
      "outputs": [],
      "source": [
        "# Feature extraction for training and testing data\n",
        "X_train_features = feature_extraction.fit_transform(X_train)\n",
        "X_test_features = feature_extraction.transform(X_test)"
      ]
    },
    {
      "cell_type": "code",
      "execution_count": 34,
      "id": "72a66c8b",
      "metadata": {
        "id": "72a66c8b"
      },
      "outputs": [],
      "source": [
        "# Convert Y_train and Y_test to integer type\n",
        "Y_train = Y_train.astype(\"int\")\n",
        "Y_test = Y_test.astype(\"int\")"
      ]
    },
    {
      "cell_type": "code",
      "execution_count": 35,
      "id": "6236d3cf",
      "metadata": {
        "colab": {
          "base_uri": "https://localhost:8080/"
        },
        "id": "6236d3cf",
        "outputId": "122e37f8-3ebb-4095-c066-dfd9a7c49dcc"
      },
      "outputs": [
        {
          "output_type": "stream",
          "name": "stdout",
          "text": [
            "3075    Mum, hope you are having a great day. Hoping t...\n",
            "1787                           Yes:)sura in sun tv.:)lol.\n",
            "1614    Me sef dey laugh you. Meanwhile how's my darli...\n",
            "4304                Yo come over carlos will be here soon\n",
            "3266                    Ok then i come n pick u at engin?\n",
            "                              ...                        \n",
            "789                          Gud mrng dear hav a nice day\n",
            "968             Are you willing to go for aptitude class.\n",
            "1667    So now my dad is gonna call after he gets out ...\n",
            "3321    Ok darlin i supose it was ok i just worry too ...\n",
            "1688                     Nan sonathaya soladha. Why boss?\n",
            "Name: Message, Length: 4457, dtype: object\n"
          ]
        }
      ],
      "source": [
        "print(X_train)"
      ]
    },
    {
      "cell_type": "code",
      "execution_count": 36,
      "id": "60466bf6",
      "metadata": {
        "colab": {
          "base_uri": "https://localhost:8080/"
        },
        "id": "60466bf6",
        "outputId": "a5262f9e-2da8-4749-ad25-ecc00ebda406"
      },
      "outputs": [
        {
          "output_type": "stream",
          "name": "stdout",
          "text": [
            "  (0, 741)\t0.3219352588930141\n",
            "  (0, 3979)\t0.2410582143632299\n",
            "  (0, 4296)\t0.3891385935794867\n",
            "  (0, 6599)\t0.20296878731699391\n",
            "  (0, 3386)\t0.3219352588930141\n",
            "  (0, 2122)\t0.38613577623520473\n",
            "  (0, 3136)\t0.440116181574609\n",
            "  (0, 3262)\t0.25877035357606315\n",
            "  (0, 3380)\t0.21807195185332803\n",
            "  (0, 4513)\t0.2909649098524696\n",
            "  (1, 4061)\t0.380431198316959\n",
            "  (1, 6872)\t0.4306015894277422\n",
            "  (1, 6417)\t0.4769136859540388\n",
            "  (1, 6442)\t0.5652509076654626\n",
            "  (1, 7443)\t0.35056971070320353\n",
            "  (2, 933)\t0.4917598465723273\n",
            "  (2, 2109)\t0.42972812260098503\n",
            "  (2, 3917)\t0.40088501350982736\n",
            "  (2, 2226)\t0.413484525934624\n",
            "  (2, 5825)\t0.4917598465723273\n",
            "  (3, 6140)\t0.4903863168693604\n",
            "  (3, 1599)\t0.5927091854194291\n",
            "  (3, 1842)\t0.3708680641487708\n",
            "  (3, 7453)\t0.5202633571003087\n",
            "  (4, 2531)\t0.7419319091456392\n",
            "  :\t:\n",
            "  (4452, 2122)\t0.31002103760284144\n",
            "  (4453, 999)\t0.6760129013031282\n",
            "  (4453, 7273)\t0.5787739591782677\n",
            "  (4453, 1762)\t0.45610005640082985\n",
            "  (4454, 3029)\t0.42618909997886\n",
            "  (4454, 2086)\t0.3809693742808703\n",
            "  (4454, 3088)\t0.34475593009514444\n",
            "  (4454, 2001)\t0.4166919007849217\n",
            "  (4454, 1049)\t0.31932060116006045\n",
            "  (4454, 7346)\t0.31166263834107377\n",
            "  (4454, 5370)\t0.42618909997886\n",
            "  (4455, 1148)\t0.38998123077430413\n",
            "  (4455, 6433)\t0.38998123077430413\n",
            "  (4455, 6361)\t0.25697343671652706\n",
            "  (4455, 2764)\t0.3226323745940581\n",
            "  (4455, 7358)\t0.2915949626395065\n",
            "  (4455, 7407)\t0.3028481995557642\n",
            "  (4455, 2108)\t0.3136468384526087\n",
            "  (4455, 4251)\t0.30616657078392584\n",
            "  (4455, 3763)\t0.16807158405536876\n",
            "  (4455, 4773)\t0.35860460546223444\n",
            "  (4456, 6117)\t0.5304350313291551\n",
            "  (4456, 6133)\t0.5304350313291551\n",
            "  (4456, 1386)\t0.4460036316446079\n",
            "  (4456, 4557)\t0.48821933148688146\n"
          ]
        }
      ],
      "source": [
        "print(X_train_features)"
      ]
    },
    {
      "cell_type": "markdown",
      "id": "f3f602a2",
      "metadata": {
        "id": "f3f602a2"
      },
      "source": [
        "# Model Selection and training"
      ]
    },
    {
      "cell_type": "markdown",
      "id": "68929a9e",
      "metadata": {
        "id": "68929a9e"
      },
      "source": [
        "Logistic Regression"
      ]
    },
    {
      "cell_type": "code",
      "execution_count": 37,
      "id": "71fcad6d",
      "metadata": {
        "colab": {
          "base_uri": "https://localhost:8080/",
          "height": 74
        },
        "id": "71fcad6d",
        "outputId": "79fd2f10-b897-47e0-bb07-547ad308fe1f"
      },
      "outputs": [
        {
          "output_type": "execute_result",
          "data": {
            "text/plain": [
              "LogisticRegression()"
            ],
            "text/html": [
              "<style>#sk-container-id-1 {color: black;background-color: white;}#sk-container-id-1 pre{padding: 0;}#sk-container-id-1 div.sk-toggleable {background-color: white;}#sk-container-id-1 label.sk-toggleable__label {cursor: pointer;display: block;width: 100%;margin-bottom: 0;padding: 0.3em;box-sizing: border-box;text-align: center;}#sk-container-id-1 label.sk-toggleable__label-arrow:before {content: \"▸\";float: left;margin-right: 0.25em;color: #696969;}#sk-container-id-1 label.sk-toggleable__label-arrow:hover:before {color: black;}#sk-container-id-1 div.sk-estimator:hover label.sk-toggleable__label-arrow:before {color: black;}#sk-container-id-1 div.sk-toggleable__content {max-height: 0;max-width: 0;overflow: hidden;text-align: left;background-color: #f0f8ff;}#sk-container-id-1 div.sk-toggleable__content pre {margin: 0.2em;color: black;border-radius: 0.25em;background-color: #f0f8ff;}#sk-container-id-1 input.sk-toggleable__control:checked~div.sk-toggleable__content {max-height: 200px;max-width: 100%;overflow: auto;}#sk-container-id-1 input.sk-toggleable__control:checked~label.sk-toggleable__label-arrow:before {content: \"▾\";}#sk-container-id-1 div.sk-estimator input.sk-toggleable__control:checked~label.sk-toggleable__label {background-color: #d4ebff;}#sk-container-id-1 div.sk-label input.sk-toggleable__control:checked~label.sk-toggleable__label {background-color: #d4ebff;}#sk-container-id-1 input.sk-hidden--visually {border: 0;clip: rect(1px 1px 1px 1px);clip: rect(1px, 1px, 1px, 1px);height: 1px;margin: -1px;overflow: hidden;padding: 0;position: absolute;width: 1px;}#sk-container-id-1 div.sk-estimator {font-family: monospace;background-color: #f0f8ff;border: 1px dotted black;border-radius: 0.25em;box-sizing: border-box;margin-bottom: 0.5em;}#sk-container-id-1 div.sk-estimator:hover {background-color: #d4ebff;}#sk-container-id-1 div.sk-parallel-item::after {content: \"\";width: 100%;border-bottom: 1px solid gray;flex-grow: 1;}#sk-container-id-1 div.sk-label:hover label.sk-toggleable__label {background-color: #d4ebff;}#sk-container-id-1 div.sk-serial::before {content: \"\";position: absolute;border-left: 1px solid gray;box-sizing: border-box;top: 0;bottom: 0;left: 50%;z-index: 0;}#sk-container-id-1 div.sk-serial {display: flex;flex-direction: column;align-items: center;background-color: white;padding-right: 0.2em;padding-left: 0.2em;position: relative;}#sk-container-id-1 div.sk-item {position: relative;z-index: 1;}#sk-container-id-1 div.sk-parallel {display: flex;align-items: stretch;justify-content: center;background-color: white;position: relative;}#sk-container-id-1 div.sk-item::before, #sk-container-id-1 div.sk-parallel-item::before {content: \"\";position: absolute;border-left: 1px solid gray;box-sizing: border-box;top: 0;bottom: 0;left: 50%;z-index: -1;}#sk-container-id-1 div.sk-parallel-item {display: flex;flex-direction: column;z-index: 1;position: relative;background-color: white;}#sk-container-id-1 div.sk-parallel-item:first-child::after {align-self: flex-end;width: 50%;}#sk-container-id-1 div.sk-parallel-item:last-child::after {align-self: flex-start;width: 50%;}#sk-container-id-1 div.sk-parallel-item:only-child::after {width: 0;}#sk-container-id-1 div.sk-dashed-wrapped {border: 1px dashed gray;margin: 0 0.4em 0.5em 0.4em;box-sizing: border-box;padding-bottom: 0.4em;background-color: white;}#sk-container-id-1 div.sk-label label {font-family: monospace;font-weight: bold;display: inline-block;line-height: 1.2em;}#sk-container-id-1 div.sk-label-container {text-align: center;}#sk-container-id-1 div.sk-container {/* jupyter's `normalize.less` sets `[hidden] { display: none; }` but bootstrap.min.css set `[hidden] { display: none !important; }` so we also need the `!important` here to be able to override the default hidden behavior on the sphinx rendered scikit-learn.org. See: https://github.com/scikit-learn/scikit-learn/issues/21755 */display: inline-block !important;position: relative;}#sk-container-id-1 div.sk-text-repr-fallback {display: none;}</style><div id=\"sk-container-id-1\" class=\"sk-top-container\"><div class=\"sk-text-repr-fallback\"><pre>LogisticRegression()</pre><b>In a Jupyter environment, please rerun this cell to show the HTML representation or trust the notebook. <br />On GitHub, the HTML representation is unable to render, please try loading this page with nbviewer.org.</b></div><div class=\"sk-container\" hidden><div class=\"sk-item\"><div class=\"sk-estimator sk-toggleable\"><input class=\"sk-toggleable__control sk-hidden--visually\" id=\"sk-estimator-id-1\" type=\"checkbox\" checked><label for=\"sk-estimator-id-1\" class=\"sk-toggleable__label sk-toggleable__label-arrow\">LogisticRegression</label><div class=\"sk-toggleable__content\"><pre>LogisticRegression()</pre></div></div></div></div></div>"
            ]
          },
          "metadata": {},
          "execution_count": 37
        }
      ],
      "source": [
        "# Create and Fit Logistic Regression Model\n",
        "model = LogisticRegression()\n",
        "model.fit(X_train_features, Y_train)"
      ]
    },
    {
      "cell_type": "markdown",
      "id": "26074163",
      "metadata": {
        "id": "26074163"
      },
      "source": [
        "Evaluating the trained model"
      ]
    },
    {
      "cell_type": "code",
      "execution_count": 38,
      "id": "cf98e089",
      "metadata": {
        "id": "cf98e089"
      },
      "outputs": [],
      "source": [
        " #Make predictions on the training data\n",
        "predict_train_data=model.predict(X_train_features)"
      ]
    },
    {
      "cell_type": "code",
      "execution_count": 39,
      "id": "fe993ac3",
      "metadata": {
        "colab": {
          "base_uri": "https://localhost:8080/"
        },
        "id": "fe993ac3",
        "outputId": "8b47ce7c-d2ee-41e7-92ad-581d36fa53b8"
      },
      "outputs": [
        {
          "output_type": "stream",
          "name": "stdout",
          "text": [
            "Accuracy on training data:  0.9661207089970832\n"
          ]
        }
      ],
      "source": [
        "#Model Evaluation\n",
        "from sklearn.metrics import accuracy_score,confusion_matrix\n",
        "accuracy_train_data=accuracy_score(Y_train,predict_train_data)\n",
        "print(\"Accuracy on training data: \",accuracy_train_data)"
      ]
    },
    {
      "cell_type": "code",
      "execution_count": 40,
      "id": "dfa1ea86",
      "metadata": {
        "id": "dfa1ea86"
      },
      "outputs": [],
      "source": [
        "# Make predictions on the testing data\n",
        "predict_test_data=model.predict(X_test_features)"
      ]
    },
    {
      "cell_type": "code",
      "execution_count": 41,
      "id": "8f00383a",
      "metadata": {
        "colab": {
          "base_uri": "https://localhost:8080/"
        },
        "id": "8f00383a",
        "outputId": "d299f58a-93b7-4024-a92d-6add0538fae3"
      },
      "outputs": [
        {
          "output_type": "stream",
          "name": "stdout",
          "text": [
            "acuuracy on test data:  0.9623318385650225\n"
          ]
        }
      ],
      "source": [
        "#Model Evaluation\n",
        "accuracy_test_data=accuracy_score(Y_test,predict_test_data)\n",
        "print(\"acuuracy on test data: \",accuracy_test_data)"
      ]
    },
    {
      "cell_type": "markdown",
      "id": "341c2da3",
      "metadata": {
        "id": "341c2da3"
      },
      "source": [
        "Test the model with an email messages"
      ]
    },
    {
      "cell_type": "code",
      "execution_count": 42,
      "id": "bd5b2264",
      "metadata": {
        "colab": {
          "base_uri": "https://localhost:8080/"
        },
        "id": "bd5b2264",
        "outputId": "44e406ad-0814-4ac2-c8de-8bec4f05f50e"
      },
      "outputs": [
        {
          "output_type": "stream",
          "name": "stdout",
          "text": [
            "[1]\n",
            "Ham Mail\n"
          ]
        }
      ],
      "source": [
        "new_mail=[\"Congratulations on your recent achievement! Well done.\"]\n",
        "new_data_features=feature_extraction.transform(new_mail)\n",
        "prediction=model.predict(new_data_features)\n",
        "print(prediction)\n",
        "\n",
        "if(prediction[0]==1):\n",
        "    print(\"Ham Mail\")\n",
        "else:\n",
        "    print(\"Spam Mail\")"
      ]
    },
    {
      "cell_type": "markdown",
      "id": "5ce7fd55",
      "metadata": {
        "id": "5ce7fd55"
      },
      "source": [
        "Confusion Matrix"
      ]
    },
    {
      "cell_type": "code",
      "execution_count": 48,
      "id": "7a240981",
      "metadata": {
        "colab": {
          "base_uri": "https://localhost:8080/",
          "height": 410
        },
        "id": "7a240981",
        "outputId": "8f6b5c5b-e707-4c1a-fc09-93a6726d5512"
      },
      "outputs": [
        {
          "output_type": "display_data",
          "data": {
            "text/plain": [
              "<Figure size 600x400 with 1 Axes>"
            ],
            "image/png": "[encoded data removed]"
          },
          "metadata": {}
        }
      ],
      "source": [
        "conf_matrix=confusion_matrix(Y_test,predict_test_data)\n",
        "plt.figure(figsize=(6,4))\n",
        "sns.heatmap(conf_matrix,annot=True,fmt=\"d\",cmap=\"Greens\",cbar=False)\n",
        "plt.xlabel(\"Predicted value\")\n",
        "plt.ylabel(\"Actual value\")\n",
        "plt.title(\"Confusion Matrix\")\n",
        "plt.show()"
      ]
    },
    {
      "cell_type": "code",
      "execution_count": 45,
      "id": "69ba5553",
      "metadata": {
        "colab": {
          "base_uri": "https://localhost:8080/",
          "height": 593
        },
        "id": "69ba5553",
        "outputId": "91cc5a34-ac1d-45cb-d90c-a3cf2f86b7c6"
      },
      "outputs": [
        {
          "output_type": "display_data",
          "data": {
            "text/plain": [
              "<Figure size 1000x600 with 1 Axes>"
            ],
            "image/png": "[encoded data removed]"
          },
          "metadata": {}
        }
      ],
      "source": [
        "# Data visualization - Top 7 Most Common Words in Spam Emails\n",
        "\n",
        "stop_words = set(stopwords.words('english'))\n",
        "spam_words = \" \".join(df[df['Category'] == 0]['Message']).split()\n",
        "ham_words = \" \".join(df[df['Category'] == 1]['Message']).split()\n",
        "\n",
        "spam_word_freq = Counter([word.lower() for word in spam_words if word.lower() not in stop_words and word.isalpha()])\n",
        "\n",
        "plt.figure(figsize=(10, 6))\n",
        "plt.bar(*zip(*spam_word_freq.most_common(7)), color='b')\n",
        "plt.xlabel('Words')\n",
        "plt.ylabel('Frequency')\n",
        "plt.title('Top 7 Most Common Words in Spam Emails')\n",
        "plt.xticks(rotation=45)\n",
        "plt.show()"
      ]
    },
    {
      "cell_type": "code",
      "execution_count": 52,
      "id": "835ed82a",
      "metadata": {
        "colab": {
          "base_uri": "https://localhost:8080/",
          "height": 74
        },
        "id": "835ed82a",
        "outputId": "53fc3268-e7b4-4ad3-dfa0-8e82ffa11315"
      },
      "outputs": [
        {
          "output_type": "execute_result",
          "data": {
            "text/plain": [
              "SVC()"
            ],
            "text/html": [
              "<style>#sk-container-id-2 {color: black;background-color: white;}#sk-container-id-2 pre{padding: 0;}#sk-container-id-2 div.sk-toggleable {background-color: white;}#sk-container-id-2 label.sk-toggleable__label {cursor: pointer;display: block;width: 100%;margin-bottom: 0;padding: 0.3em;box-sizing: border-box;text-align: center;}#sk-container-id-2 label.sk-toggleable__label-arrow:before {content: \"▸\";float: left;margin-right: 0.25em;color: #696969;}#sk-container-id-2 label.sk-toggleable__label-arrow:hover:before {color: black;}#sk-container-id-2 div.sk-estimator:hover label.sk-toggleable__label-arrow:before {color: black;}#sk-container-id-2 div.sk-toggleable__content {max-height: 0;max-width: 0;overflow: hidden;text-align: left;background-color: #f0f8ff;}#sk-container-id-2 div.sk-toggleable__content pre {margin: 0.2em;color: black;border-radius: 0.25em;background-color: #f0f8ff;}#sk-container-id-2 input.sk-toggleable__control:checked~div.sk-toggleable__content {max-height: 200px;max-width: 100%;overflow: auto;}#sk-container-id-2 input.sk-toggleable__control:checked~label.sk-toggleable__label-arrow:before {content: \"▾\";}#sk-container-id-2 div.sk-estimator input.sk-toggleable__control:checked~label.sk-toggleable__label {background-color: #d4ebff;}#sk-container-id-2 div.sk-label input.sk-toggleable__control:checked~label.sk-toggleable__label {background-color: #d4ebff;}#sk-container-id-2 input.sk-hidden--visually {border: 0;clip: rect(1px 1px 1px 1px);clip: rect(1px, 1px, 1px, 1px);height: 1px;margin: -1px;overflow: hidden;padding: 0;position: absolute;width: 1px;}#sk-container-id-2 div.sk-estimator {font-family: monospace;background-color: #f0f8ff;border: 1px dotted black;border-radius: 0.25em;box-sizing: border-box;margin-bottom: 0.5em;}#sk-container-id-2 div.sk-estimator:hover {background-color: #d4ebff;}#sk-container-id-2 div.sk-parallel-item::after {content: \"\";width: 100%;border-bottom: 1px solid gray;flex-grow: 1;}#sk-container-id-2 div.sk-label:hover label.sk-toggleable__label {background-color: #d4ebff;}#sk-container-id-2 div.sk-serial::before {content: \"\";position: absolute;border-left: 1px solid gray;box-sizing: border-box;top: 0;bottom: 0;left: 50%;z-index: 0;}#sk-container-id-2 div.sk-serial {display: flex;flex-direction: column;align-items: center;background-color: white;padding-right: 0.2em;padding-left: 0.2em;position: relative;}#sk-container-id-2 div.sk-item {position: relative;z-index: 1;}#sk-container-id-2 div.sk-parallel {display: flex;align-items: stretch;justify-content: center;background-color: white;position: relative;}#sk-container-id-2 div.sk-item::before, #sk-container-id-2 div.sk-parallel-item::before {content: \"\";position: absolute;border-left: 1px solid gray;box-sizing: border-box;top: 0;bottom: 0;left: 50%;z-index: -1;}#sk-container-id-2 div.sk-parallel-item {display: flex;flex-direction: column;z-index: 1;position: relative;background-color: white;}#sk-container-id-2 div.sk-parallel-item:first-child::after {align-self: flex-end;width: 50%;}#sk-container-id-2 div.sk-parallel-item:last-child::after {align-self: flex-start;width: 50%;}#sk-container-id-2 div.sk-parallel-item:only-child::after {width: 0;}#sk-container-id-2 div.sk-dashed-wrapped {border: 1px dashed gray;margin: 0 0.4em 0.5em 0.4em;box-sizing: border-box;padding-bottom: 0.4em;background-color: white;}#sk-container-id-2 div.sk-label label {font-family: monospace;font-weight: bold;display: inline-block;line-height: 1.2em;}#sk-container-id-2 div.sk-label-container {text-align: center;}#sk-container-id-2 div.sk-container {/* jupyter's `normalize.less` sets `[hidden] { display: none; }` but bootstrap.min.css set `[hidden] { display: none !important; }` so we also need the `!important` here to be able to override the default hidden behavior on the sphinx rendered scikit-learn.org. See: https://github.com/scikit-learn/scikit-learn/issues/21755 */display: inline-block !important;position: relative;}#sk-container-id-2 div.sk-text-repr-fallback {display: none;}</style><div id=\"sk-container-id-2\" class=\"sk-top-container\"><div class=\"sk-text-repr-fallback\"><pre>SVC()</pre><b>In a Jupyter environment, please rerun this cell to show the HTML representation or trust the notebook. <br />On GitHub, the HTML representation is unable to render, please try loading this page with nbviewer.org.</b></div><div class=\"sk-container\" hidden><div class=\"sk-item\"><div class=\"sk-estimator sk-toggleable\"><input class=\"sk-toggleable__control sk-hidden--visually\" id=\"sk-estimator-id-2\" type=\"checkbox\" checked><label for=\"sk-estimator-id-2\" class=\"sk-toggleable__label sk-toggleable__label-arrow\">SVC</label><div class=\"sk-toggleable__content\"><pre>SVC()</pre></div></div></div></div></div>"
            ]
          },
          "metadata": {},
          "execution_count": 52
        }
      ],
      "source": [
        "model = SVC()\n",
        "model.fit(X_train_features, Y_train)"
      ]
    },
    {
      "cell_type": "code",
      "source": [
        "predict_train_data=model.predict(X_train_features)"
      ],
      "metadata": {
        "id": "X6BKfWpEVKuB"
      },
      "id": "X6BKfWpEVKuB",
      "execution_count": 53,
      "outputs": []
    },
    {
      "cell_type": "code",
      "source": [
        "accuracy_test_data=accuracy_score(Y_test,predict_test_data)\n",
        "print(\"acuuracy on test data: \",accuracy_test_data)"
      ],
      "metadata": {
        "colab": {
          "base_uri": "https://localhost:8080/"
        },
        "id": "0S1LnMVaVVZP",
        "outputId": "a3f03eee-e390-4ca5-93d9-816ed67b2b22"
      },
      "id": "0S1LnMVaVVZP",
      "execution_count": 54,
      "outputs": [
        {
          "output_type": "stream",
          "name": "stdout",
          "text": [
            "acuuracy on test data:  0.9623318385650225\n"
          ]
        }
      ]
    },
    {
      "cell_type": "code",
      "source": [
        "new_mail=[\"Congratulations on your recent achievement! Well done.\"]\n",
        "new_data_features=feature_extraction.transform(new_mail)\n",
        "prediction=model.predict(new_data_features)\n",
        "print(prediction)\n",
        "\n",
        "if(prediction[0]==1):\n",
        "    print(\"Ham Mail\")\n",
        "else:\n",
        "    print(\"Spam Mail\")"
      ],
      "metadata": {
        "colab": {
          "base_uri": "https://localhost:8080/"
        },
        "id": "z0ShHLf3Vd4H",
        "outputId": "1e68d09c-f108-4791-a83d-2b267ba6bb7c"
      },
      "id": "z0ShHLf3Vd4H",
      "execution_count": 55,
      "outputs": [
        {
          "output_type": "stream",
          "name": "stdout",
          "text": [
            "[1]\n",
            "Ham Mail\n"
          ]
        }
      ]
    },
    {
      "cell_type": "code",
      "source": [
        "conf_matrix=confusion_matrix(Y_test,predict_test_data)\n",
        "plt.figure(figsize=(6,4))\n",
        "sns.heatmap(conf_matrix,annot=True,fmt=\"d\",cmap=\"BuPu\",cbar=False)\n",
        "plt.xlabel(\"Predicted value\")\n",
        "plt.ylabel(\"Actual value\")\n",
        "plt.title(\"Confusion Matrix\")\n",
        "plt.show()"
      ],
      "metadata": {
        "colab": {
          "base_uri": "https://localhost:8080/",
          "height": 410
        },
        "id": "vW8Lq1s5ViH8",
        "outputId": "f3afcb2b-b4f3-4dbc-c83c-130f68553075"
      },
      "id": "vW8Lq1s5ViH8",
      "execution_count": 56,
      "outputs": [
        {
          "output_type": "display_data",
          "data": {
            "text/plain": [
              "<Figure size 600x400 with 1 Axes>"
            ],
            "image/png": "[encoded data removed]"
          },
          "metadata": {}
        }
      ]
    },
    {
      "cell_type": "code",
      "source": [
        "from sklearn.metrics import classification_report\n",
        "print(classification_report(Y_test,predict_test_data))"
      ],
      "metadata": {
        "colab": {
          "base_uri": "https://localhost:8080/"
        },
        "id": "mj7vi3PPVvJG",
        "outputId": "a80bfb31-e01d-4a11-b248-ee964fed9e5a"
      },
      "id": "mj7vi3PPVvJG",
      "execution_count": 59,
      "outputs": [
        {
          "output_type": "stream",
          "name": "stdout",
          "text": [
            "              precision    recall  f1-score   support\n",
            "\n",
            "           0       0.99      0.74      0.84       155\n",
            "           1       0.96      1.00      0.98       960\n",
            "\n",
            "    accuracy                           0.96      1115\n",
            "   macro avg       0.98      0.87      0.91      1115\n",
            "weighted avg       0.96      0.96      0.96      1115\n",
            "\n"
          ]
        }
      ]
    }
  ],
  "metadata": {
    "kernelspec": {
      "display_name": "Python 3 (ipykernel)",
      "language": "python",
      "name": "python3"
    },
    "language_info": {
      "codemirror_mode": {
        "name": "ipython",
        "version": 3
      },
      "file_extension": ".py",
      "mimetype": "text/x-python",
      "name": "python",
      "nbconvert_exporter": "python",
      "pygments_lexer": "ipython3",
      "version": "3.10.0"
    },
    "colab": {
      "provenance": []
    }
  },
  "nbformat": 4,
  "nbformat_minor": 5
}